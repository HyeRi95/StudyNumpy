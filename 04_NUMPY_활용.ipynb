{
 "cells": [
  {
   "cell_type": "markdown",
   "id": "43760aff",
   "metadata": {},
   "source": [
    "# NUMPY 활용 "
   ]
  },
  {
   "cell_type": "markdown",
   "id": "a94ae446",
   "metadata": {},
   "source": [
    "###  Reshape"
   ]
  },
  {
   "cell_type": "markdown",
   "id": "6b30b208",
   "metadata": {},
   "source": [
    "> array.reshpae(size)"
   ]
  },
  {
   "cell_type": "code",
   "execution_count": 2,
   "id": "4df2f4f0",
   "metadata": {},
   "outputs": [
    {
     "name": "stdout",
     "output_type": "stream",
     "text": [
      "[[1 2]\n",
      " [3 4]\n",
      " [5 6]]\n"
     ]
    }
   ],
   "source": [
    "import numpy as np\n",
    "arr = np.array([[1,2,3],[4,5,6]]) #2x3형태의 2차원 배열\n",
    "print(arr.reshape(3,2)) # 3x2형태의 2차원 배열 "
   ]
  },
  {
   "cell_type": "code",
   "execution_count": 4,
   "id": "3e5828b8",
   "metadata": {},
   "outputs": [
    {
     "name": "stdout",
     "output_type": "stream",
     "text": [
      "[[1]\n",
      " [2]\n",
      " [3]\n",
      " [4]\n",
      " [5]\n",
      " [6]]\n"
     ]
    }
   ],
   "source": [
    "print(arr.reshape(6,1))"
   ]
  },
  {
   "cell_type": "code",
   "execution_count": 6,
   "id": "ad53d473",
   "metadata": {},
   "outputs": [
    {
     "name": "stdout",
     "output_type": "stream",
     "text": [
      "[[1 2 3 4 5 6]]\n"
     ]
    }
   ],
   "source": [
    "print(arr.reshape(1,6))"
   ]
  },
  {
   "cell_type": "markdown",
   "id": "5068b6a8",
   "metadata": {},
   "source": [
    "> 3x1x2 배열로 변형 "
   ]
  },
  {
   "cell_type": "code",
   "execution_count": 12,
   "id": "94164c8c",
   "metadata": {},
   "outputs": [
    {
     "name": "stdout",
     "output_type": "stream",
     "text": [
      "[[[1 2]]\n",
      "\n",
      " [[3 4]]\n",
      "\n",
      " [[5 6]]]\n"
     ]
    }
   ],
   "source": [
    "print(arr.reshape(3,1,2))"
   ]
  },
  {
   "cell_type": "code",
   "execution_count": 9,
   "id": "cd203138",
   "metadata": {},
   "outputs": [
    {
     "name": "stdout",
     "output_type": "stream",
     "text": [
      "[1 2 3 4 5 6]\n"
     ]
    }
   ],
   "source": [
    "print(arr.reshape(3,1,2,1)) # 차원 늘리고 싶으면 , 늘려서 \n",
    "print(arr.reshape(6)) # 차원 줄이고 싶으면 , 줄이기 "
   ]
  },
  {
   "cell_type": "markdown",
   "id": "32ff7ca9",
   "metadata": {},
   "source": [
    "> ?x2 배열로 변형 "
   ]
  },
  {
   "cell_type": "code",
   "execution_count": 8,
   "id": "1cb5cef9",
   "metadata": {
    "scrolled": true
   },
   "outputs": [
    {
     "name": "stdout",
     "output_type": "stream",
     "text": [
      "[[1 2]\n",
      " [3 4]\n",
      " [5 6]]\n"
     ]
    }
   ],
   "source": [
    "print(arr.reshape(-1,2))"
   ]
  },
  {
   "cell_type": "code",
   "execution_count": 13,
   "id": "6b14f484",
   "metadata": {},
   "outputs": [],
   "source": [
    "tensor = np.array(range(1,37)) # shape (3,3,4)"
   ]
  },
  {
   "cell_type": "code",
   "execution_count": 14,
   "id": "110c1007",
   "metadata": {},
   "outputs": [
    {
     "name": "stdout",
     "output_type": "stream",
     "text": [
      "[[[ 1  2  3  4]\n",
      "  [ 5  6  7  8]\n",
      "  [ 9 10 11 12]]\n",
      "\n",
      " [[13 14 15 16]\n",
      "  [17 18 19 20]\n",
      "  [21 22 23 24]]\n",
      "\n",
      " [[25 26 27 28]\n",
      "  [29 30 31 32]\n",
      "  [33 34 35 36]]]\n"
     ]
    }
   ],
   "source": [
    "print(tensor.reshape(3,3,4))"
   ]
  },
  {
   "cell_type": "markdown",
   "id": "c8dfcecd",
   "metadata": {},
   "source": [
    "- tensor 배열을 2차원 배열로 변형시켜 봅니다. * 열의 개수는 9"
   ]
  },
  {
   "cell_type": "code",
   "execution_count": 15,
   "id": "c884b5cf",
   "metadata": {},
   "outputs": [
    {
     "name": "stdout",
     "output_type": "stream",
     "text": [
      "[[ 1  2  3  4  5  6  7  8  9]\n",
      " [10 11 12 13 14 15 16 17 18]\n",
      " [19 20 21 22 23 24 25 26 27]\n",
      " [28 29 30 31 32 33 34 35 36]]\n"
     ]
    }
   ],
   "source": [
    "print(tensor.reshape(-1,9))"
   ]
  },
  {
   "cell_type": "markdown",
   "id": "71658797",
   "metadata": {},
   "source": [
    "# Flatten"
   ]
  },
  {
   "cell_type": "markdown",
   "id": "3e5ea0d9",
   "metadata": {},
   "source": [
    "> 다차원 배열을 1차원배열로 변형 "
   ]
  },
  {
   "cell_type": "code",
   "execution_count": 18,
   "id": "790e4f09",
   "metadata": {},
   "outputs": [
    {
     "data": {
      "text/plain": [
       "array([[1, 2, 3],\n",
       "       [4, 5, 6]])"
      ]
     },
     "execution_count": 18,
     "metadata": {},
     "output_type": "execute_result"
    }
   ],
   "source": [
    "arr"
   ]
  },
  {
   "cell_type": "code",
   "execution_count": 16,
   "id": "e053f553",
   "metadata": {},
   "outputs": [
    {
     "name": "stdout",
     "output_type": "stream",
     "text": [
      "[1 2 3 4 5 6]\n"
     ]
    }
   ],
   "source": [
    "# shape(2,3) -> shape(6,)\n",
    "print(arr.flatten())"
   ]
  },
  {
   "cell_type": "code",
   "execution_count": 17,
   "id": "df36862a",
   "metadata": {},
   "outputs": [
    {
     "name": "stdout",
     "output_type": "stream",
     "text": [
      "[1 2 3 4 5 6]\n"
     ]
    }
   ],
   "source": [
    "# shape(1,6) -> shape(6,)\n",
    "print(arr.reshape(1,6).flatten())"
   ]
  },
  {
   "cell_type": "code",
   "execution_count": 24,
   "id": "8476cb4d",
   "metadata": {},
   "outputs": [
    {
     "data": {
      "text/plain": [
       "array([[[ 1,  2,  3,  4],\n",
       "        [ 5,  6,  7,  8],\n",
       "        [ 9, 10, 11, 12]],\n",
       "\n",
       "       [[13, 14, 15, 16],\n",
       "        [17, 18, 19, 20],\n",
       "        [21, 22, 23, 24]],\n",
       "\n",
       "       [[25, 26, 27, 28],\n",
       "        [29, 30, 31, 32],\n",
       "        [33, 34, 35, 36]]])"
      ]
     },
     "execution_count": 24,
     "metadata": {},
     "output_type": "execute_result"
    }
   ],
   "source": [
    "tensor2 = tensor.reshape(3,3,4)\n",
    "tensor2"
   ]
  },
  {
   "cell_type": "code",
   "execution_count": 25,
   "id": "cfbaeab3",
   "metadata": {},
   "outputs": [
    {
     "name": "stdout",
     "output_type": "stream",
     "text": [
      "[ 1  2  3  4  5  6  7  8  9 10 11 12 13 14 15 16 17 18 19 20 21 22 23 24\n",
      " 25 26 27 28 29 30 31 32 33 34 35 36]\n"
     ]
    }
   ],
   "source": [
    "print(tensor2.flatten())"
   ]
  },
  {
   "cell_type": "markdown",
   "id": "66ab8b0f",
   "metadata": {},
   "source": [
    "# Arange "
   ]
  },
  {
   "cell_type": "code",
   "execution_count": 26,
   "id": "f6cad954",
   "metadata": {},
   "outputs": [
    {
     "name": "stdout",
     "output_type": "stream",
     "text": [
      "[ 0  1  2  3  4  5  6  7  8  9 10 11 12 13 14 15 16 17 18 19 20 21 22 23\n",
      " 24 25 26 27 28 29]\n"
     ]
    }
   ],
   "source": [
    "print(np.arange(30)) # np.array(range(30))"
   ]
  },
  {
   "cell_type": "markdown",
   "id": "c9e823c8",
   "metadata": {},
   "source": [
    "> 간격지정 : np.arange(start,end,step)"
   ]
  },
  {
   "cell_type": "code",
   "execution_count": 27,
   "id": "4159070d",
   "metadata": {},
   "outputs": [
    {
     "name": "stdout",
     "output_type": "stream",
     "text": [
      "[0 2 4 6 8]\n"
     ]
    }
   ],
   "source": [
    "print(np.arange(0,10,2))"
   ]
  },
  {
   "cell_type": "code",
   "execution_count": 28,
   "id": "a64da4aa",
   "metadata": {},
   "outputs": [
    {
     "name": "stdout",
     "output_type": "stream",
     "text": [
      "[0.  0.2 0.4 0.6 0.8 1.  1.2 1.4 1.6 1.8]\n"
     ]
    }
   ],
   "source": [
    "print(np.arange(0,2,0.2))"
   ]
  },
  {
   "cell_type": "code",
   "execution_count": 29,
   "id": "60c02187",
   "metadata": {},
   "outputs": [
    {
     "name": "stdout",
     "output_type": "stream",
     "text": [
      "[-2.  -1.5 -1.  -0.5  0.   0.5  1.   1.5]\n"
     ]
    }
   ],
   "source": [
    "print(np.arange(-2,2,0.5))"
   ]
  },
  {
   "cell_type": "code",
   "execution_count": 30,
   "id": "1ee5c849",
   "metadata": {},
   "outputs": [
    {
     "name": "stdout",
     "output_type": "stream",
     "text": [
      "[10  9  8  7  6  5  4  3  2  1]\n"
     ]
    }
   ],
   "source": [
    "print(np.arange(10,0,-1))"
   ]
  },
  {
   "cell_type": "markdown",
   "id": "55758811",
   "metadata": {},
   "source": [
    "# Arange + Reshape "
   ]
  },
  {
   "cell_type": "code",
   "execution_count": 31,
   "id": "75afa165",
   "metadata": {},
   "outputs": [
    {
     "name": "stdout",
     "output_type": "stream",
     "text": [
      "[[ 1  2  3  4  5]\n",
      " [ 6  7  8  9 10]\n",
      " [11 12 13 14 15]\n",
      " [16 17 18 19 20]\n",
      " [21 22 23 24 25]]\n"
     ]
    }
   ],
   "source": [
    "print(np.arange(1,26).reshape(5,5))"
   ]
  },
  {
   "cell_type": "markdown",
   "id": "65e87aa6",
   "metadata": {},
   "source": [
    "- 문제3. arange, reshape 함수 사용 100부터 190까지 숫자가 10 간격으로 나열된 배열 생성, (2,5) 형태의 2차원 배열로 변형 "
   ]
  },
  {
   "cell_type": "code",
   "execution_count": 33,
   "id": "b5899b7c",
   "metadata": {},
   "outputs": [
    {
     "name": "stdout",
     "output_type": "stream",
     "text": [
      "[[100 110 120 130 140]\n",
      " [150 160 170 180 190]]\n"
     ]
    }
   ],
   "source": [
    "arr_test_3 = np.arange(100,191,10).reshape(2,5)\n",
    "print(arr_test_3)"
   ]
  },
  {
   "cell_type": "markdown",
   "id": "251dc20f",
   "metadata": {},
   "source": [
    "- 문제 4 arange, reshape 함수 사용 -2부터 2까지의 숫자가 0.5 간격으로 나열된 배열생성,적당한 3차원배열로 변경"
   ]
  },
  {
   "cell_type": "code",
   "execution_count": 40,
   "id": "97233085",
   "metadata": {},
   "outputs": [
    {
     "name": "stdout",
     "output_type": "stream",
     "text": [
      "[[[-2. ]\n",
      "  [-1.5]\n",
      "  [-1. ]]\n",
      "\n",
      " [[-0.5]\n",
      "  [ 0. ]\n",
      "  [ 0.5]]\n",
      "\n",
      " [[ 1. ]\n",
      "  [ 1.5]\n",
      "  [ 2. ]]]\n"
     ]
    }
   ],
   "source": [
    "arr_test_4 = np.arange(-2,2.1,0.5).reshape(3,3,1)\n",
    "print(arr_test_4)"
   ]
  },
  {
   "cell_type": "markdown",
   "id": "66139aff",
   "metadata": {},
   "source": [
    "# Zeros"
   ]
  },
  {
   "cell_type": "markdown",
   "id": "993e9dde",
   "metadata": {},
   "source": [
    "> np.zeros(shape, dtype) "
   ]
  },
  {
   "cell_type": "markdown",
   "id": "29326098",
   "metadata": {},
   "source": [
    " 0으로 채워진 배열 생성 , shape 지정 가능 "
   ]
  },
  {
   "cell_type": "code",
   "execution_count": 48,
   "id": "3f744e72",
   "metadata": {},
   "outputs": [
    {
     "name": "stdout",
     "output_type": "stream",
     "text": [
      "[0 0 0 0 0]\n"
     ]
    }
   ],
   "source": [
    "print(np.zeros(shape=(5,),dtype=np.int8))"
   ]
  },
  {
   "cell_type": "code",
   "execution_count": 53,
   "id": "42bd276c",
   "metadata": {},
   "outputs": [
    {
     "name": "stdout",
     "output_type": "stream",
     "text": [
      "[[0. 0. 0.]\n",
      " [0. 0. 0.]]\n"
     ]
    }
   ],
   "source": [
    "print(np.zeros((2,3)))"
   ]
  },
  {
   "cell_type": "markdown",
   "id": "299f9d67",
   "metadata": {},
   "source": [
    "# Ones"
   ]
  },
  {
   "cell_type": "markdown",
   "id": "0ffaded5",
   "metadata": {},
   "source": [
    "> np.ones(shape,dtype)"
   ]
  },
  {
   "cell_type": "code",
   "execution_count": 47,
   "id": "bc1896eb",
   "metadata": {},
   "outputs": [
    {
     "name": "stdout",
     "output_type": "stream",
     "text": [
      "[1 1 1 1 1]\n"
     ]
    }
   ],
   "source": [
    "print(np.ones(shape=(5,),dtype=np.int8))"
   ]
  },
  {
   "cell_type": "code",
   "execution_count": null,
   "id": "a80ae9ef",
   "metadata": {},
   "outputs": [],
   "source": []
  },
  {
   "cell_type": "markdown",
   "id": "43239a4d",
   "metadata": {},
   "source": [
    "# Empty"
   ]
  },
  {
   "cell_type": "markdown",
   "id": "426afec7",
   "metadata": {},
   "source": [
    "> np.empty(shape,dtype)"
   ]
  },
  {
   "cell_type": "code",
   "execution_count": 51,
   "id": "ed9265a7",
   "metadata": {
    "scrolled": true
   },
   "outputs": [
    {
     "name": "stdout",
     "output_type": "stream",
     "text": [
      "[100 110 120 130 140 150 160 170 180 190]\n"
     ]
    }
   ],
   "source": [
    "print(np.empty(shape =(10,),dtype=np.int32))"
   ]
  },
  {
   "cell_type": "code",
   "execution_count": 52,
   "id": "8736a1cf",
   "metadata": {
    "scrolled": true
   },
   "outputs": [
    {
     "name": "stdout",
     "output_type": "stream",
     "text": [
      "[[0 1 1 1 1]\n",
      " [1 1 1 1 1]]\n"
     ]
    }
   ],
   "source": [
    "print(np.empty((2,5),np.int8))"
   ]
  },
  {
   "cell_type": "markdown",
   "id": "5644abe4",
   "metadata": {},
   "source": [
    "# Zeros_like / Ones_like / Empty_like"
   ]
  },
  {
   "cell_type": "markdown",
   "id": "24e9d556",
   "metadata": {},
   "source": [
    "> np.zeros_like(ndarray)"
   ]
  },
  {
   "cell_type": "code",
   "execution_count": 55,
   "id": "4acc2b8a",
   "metadata": {},
   "outputs": [
    {
     "name": "stdout",
     "output_type": "stream",
     "text": [
      "[[0 0 0 0 0 0]\n",
      " [0 0 0 0 0 0]\n",
      " [0 0 0 0 0 0]\n",
      " [0 0 0 0 0 0]]\n"
     ]
    }
   ],
   "source": [
    "matrix = np.arange(24).reshape(4,6)\n",
    "print(np.zeros_like(matrix))"
   ]
  },
  {
   "cell_type": "markdown",
   "id": "69c3d6cb",
   "metadata": {},
   "source": [
    ">np.ones_like(ndarray)"
   ]
  },
  {
   "cell_type": "code",
   "execution_count": 56,
   "id": "7dbe9d4a",
   "metadata": {},
   "outputs": [
    {
     "name": "stdout",
     "output_type": "stream",
     "text": [
      "[[1. 1. 1. 1. 1. 1. 1. 1. 1. 1.]\n",
      " [1. 1. 1. 1. 1. 1. 1. 1. 1. 1.]]\n"
     ]
    }
   ],
   "source": [
    "matrix = np.arange(-2,2,0.2).reshape(2,10)\n",
    "print(np.ones_like(matrix))"
   ]
  },
  {
   "cell_type": "markdown",
   "id": "882ea749",
   "metadata": {},
   "source": [
    ">np.empty_like(ndarray)"
   ]
  },
  {
   "cell_type": "code",
   "execution_count": 58,
   "id": "853de7c2",
   "metadata": {},
   "outputs": [
    {
     "name": "stdout",
     "output_type": "stream",
     "text": [
      "[[0 0 0 0 0 0]\n",
      " [0 0 0 0 0 0]\n",
      " [0 0 0 0 0 0]\n",
      " [0 0 0 0 0 0]\n",
      " [0 0 0 0 0 0]]\n"
     ]
    }
   ],
   "source": [
    "matrix = np.arange(30).reshape(5,6)\n",
    "print(np.empty_like(matrix))"
   ]
  },
  {
   "cell_type": "code",
   "execution_count": 64,
   "id": "27bc5dfd",
   "metadata": {},
   "outputs": [
    {
     "name": "stdout",
     "output_type": "stream",
     "text": [
      "[[0 0 0 0 0 0]\n",
      " [0 0 0 0 0 0]\n",
      " [0 0 0 0 0 0]\n",
      " [0 0 0 0 0 0]\n",
      " [0 0 0 0 0 0]]\n"
     ]
    }
   ],
   "source": [
    "print(np.empty_like(matrix))"
   ]
  },
  {
   "cell_type": "markdown",
   "id": "c51ab38e",
   "metadata": {},
   "source": [
    "# Identity : 단위행렬"
   ]
  },
  {
   "cell_type": "markdown",
   "id": "e2cc022b",
   "metadata": {},
   "source": [
    ">np.identity(size,dtype)"
   ]
  },
  {
   "cell_type": "code",
   "execution_count": 65,
   "id": "df3806be",
   "metadata": {},
   "outputs": [
    {
     "name": "stdout",
     "output_type": "stream",
     "text": [
      "[[1 0 0 0 0]\n",
      " [0 1 0 0 0]\n",
      " [0 0 1 0 0]\n",
      " [0 0 0 1 0]\n",
      " [0 0 0 0 1]]\n"
     ]
    }
   ],
   "source": [
    "print(np.identity(5, dtype =np.int8))"
   ]
  },
  {
   "cell_type": "code",
   "execution_count": 66,
   "id": "288d01e0",
   "metadata": {},
   "outputs": [
    {
     "name": "stdout",
     "output_type": "stream",
     "text": [
      "[[1. 0.]\n",
      " [0. 1.]]\n"
     ]
    }
   ],
   "source": [
    "print(np.identity(2))"
   ]
  },
  {
   "cell_type": "code",
   "execution_count": 67,
   "id": "8aaeb415",
   "metadata": {},
   "outputs": [
    {
     "name": "stdout",
     "output_type": "stream",
     "text": [
      "[['1' '' '' '' '']\n",
      " ['' '1' '' '' '']\n",
      " ['' '' '1' '' '']\n",
      " ['' '' '' '1' '']\n",
      " ['' '' '' '' '1']]\n"
     ]
    }
   ],
   "source": [
    "print(np.identity(5, dtype=np.str_))"
   ]
  },
  {
   "cell_type": "markdown",
   "id": "a8a29ef1",
   "metadata": {},
   "source": [
    "# Eye : 대각선이 1로 채워지는 행렬 , 대각선의 위치지정가능"
   ]
  },
  {
   "cell_type": "markdown",
   "id": "d9013405",
   "metadata": {},
   "source": [
    "> np.eye(size,M,k,dtype)\n"
   ]
  },
  {
   "cell_type": "markdown",
   "id": "691524a5",
   "metadata": {},
   "source": [
    "     -  k : 대각선의 시작 위치를 입력 받은 수 만큼 오른쪽으로 이동\n",
    "     -  M : 보여지는 열의 개수를 지정 "
   ]
  },
  {
   "cell_type": "code",
   "execution_count": 68,
   "id": "b66b9221",
   "metadata": {},
   "outputs": [
    {
     "name": "stdout",
     "output_type": "stream",
     "text": [
      "[[1 0 0 0 0]\n",
      " [0 1 0 0 0]\n",
      " [0 0 1 0 0]\n",
      " [0 0 0 1 0]\n",
      " [0 0 0 0 1]]\n"
     ]
    }
   ],
   "source": [
    "print(np.eye(5,dtype=np.int8))"
   ]
  },
  {
   "cell_type": "code",
   "execution_count": 72,
   "id": "eb580942",
   "metadata": {},
   "outputs": [
    {
     "name": "stdout",
     "output_type": "stream",
     "text": [
      "[[0. 0. 1. 0. 0.]\n",
      " [0. 0. 0. 1. 0.]\n",
      " [0. 0. 0. 0. 1.]\n",
      " [0. 0. 0. 0. 0.]\n",
      " [0. 0. 0. 0. 0.]]\n"
     ]
    }
   ],
   "source": [
    "print(np.eye(5, k = 2))"
   ]
  },
  {
   "cell_type": "code",
   "execution_count": 73,
   "id": "06c74d64",
   "metadata": {},
   "outputs": [
    {
     "name": "stdout",
     "output_type": "stream",
     "text": [
      "[[0. 0. 0. 0. 0. 0. 0. 0. 0. 0.]\n",
      " [1. 0. 0. 0. 0. 0. 0. 0. 0. 0.]\n",
      " [0. 1. 0. 0. 0. 0. 0. 0. 0. 0.]\n",
      " [0. 0. 1. 0. 0. 0. 0. 0. 0. 0.]\n",
      " [0. 0. 0. 1. 0. 0. 0. 0. 0. 0.]]\n"
     ]
    }
   ],
   "source": [
    "print(np.eye(5, M=10, k =-1))"
   ]
  },
  {
   "cell_type": "code",
   "execution_count": 74,
   "id": "bd9c4fea",
   "metadata": {},
   "outputs": [
    {
     "name": "stdout",
     "output_type": "stream",
     "text": [
      "[[0. 0. 0. 0. 0. 1. 0. 0. 0. 0.]\n",
      " [0. 0. 0. 0. 0. 0. 1. 0. 0. 0.]\n",
      " [0. 0. 0. 0. 0. 0. 0. 1. 0. 0.]\n",
      " [0. 0. 0. 0. 0. 0. 0. 0. 1. 0.]\n",
      " [0. 0. 0. 0. 0. 0. 0. 0. 0. 1.]]\n"
     ]
    }
   ],
   "source": [
    "print(np.eye(5, M = 10, k = 5))"
   ]
  },
  {
   "cell_type": "markdown",
   "id": "334ef24e",
   "metadata": {},
   "source": [
    "# Full"
   ]
  },
  {
   "cell_type": "markdown",
   "id": "d06d25b2",
   "metadata": {},
   "source": [
    "입력 값으로 채워지는 행렬"
   ]
  },
  {
   "cell_type": "markdown",
   "id": "afac37d6",
   "metadata": {},
   "source": [
    "> np.full((Shape),value)"
   ]
  },
  {
   "cell_type": "code",
   "execution_count": 77,
   "id": "b8e233da",
   "metadata": {},
   "outputs": [
    {
     "name": "stdout",
     "output_type": "stream",
     "text": [
      "[[3 3 3 3 3]\n",
      " [3 3 3 3 3]]\n"
     ]
    }
   ],
   "source": [
    "print(np.full((2,5),3))"
   ]
  },
  {
   "cell_type": "code",
   "execution_count": 78,
   "id": "7e0ce744",
   "metadata": {},
   "outputs": [
    {
     "name": "stdout",
     "output_type": "stream",
     "text": [
      "[['Python' 'Python' 'Python' 'Python' 'Python']\n",
      " ['Python' 'Python' 'Python' 'Python' 'Python']]\n"
     ]
    }
   ],
   "source": [
    "print(np.full((2,5),'Python'))"
   ]
  },
  {
   "cell_type": "code",
   "execution_count": 84,
   "id": "5d9d5bad",
   "metadata": {},
   "outputs": [
    {
     "name": "stdout",
     "output_type": "stream",
     "text": [
      "[[3. 3. 3.]\n",
      " [3. 3. 3.]\n",
      " [3. 3. 3.]]\n",
      "[[3 3 3]\n",
      " [3 3 3]\n",
      " [3 3 3]]\n"
     ]
    }
   ],
   "source": [
    "print(np.ones((3,3))*3)\n",
    "print(np.full((3,3),3))"
   ]
  },
  {
   "cell_type": "markdown",
   "id": "7a7d45a1",
   "metadata": {},
   "source": [
    "# Random.randint"
   ]
  },
  {
   "cell_type": "markdown",
   "id": "1a11bced",
   "metadata": {},
   "source": [
    "주어진 범위 안의 랜덤한 값을 뽑는 함수"
   ]
  },
  {
   "cell_type": "markdown",
   "id": "7add33c7",
   "metadata": {},
   "source": [
    "> np.random.randint(range)"
   ]
  },
  {
   "cell_type": "code",
   "execution_count": 93,
   "id": "09809694",
   "metadata": {},
   "outputs": [
    {
     "name": "stdout",
     "output_type": "stream",
     "text": [
      "3\n"
     ]
    }
   ],
   "source": [
    "#0~5까지의 정수중 하나뽑기\n",
    "print(np.random.randint(6))"
   ]
  },
  {
   "cell_type": "code",
   "execution_count": 117,
   "id": "7ac9a47c",
   "metadata": {},
   "outputs": [
    {
     "name": "stdout",
     "output_type": "stream",
     "text": [
      "[10 10]\n"
     ]
    }
   ],
   "source": [
    "print(np.random.randint(1,20,2)) # 1~19 까지 정수중 2개 뽑아서 배열 만들기 "
   ]
  },
  {
   "cell_type": "code",
   "execution_count": 94,
   "id": "4c92b722",
   "metadata": {},
   "outputs": [],
   "source": [
    "import random"
   ]
  },
  {
   "cell_type": "code",
   "execution_count": 116,
   "id": "8337033e",
   "metadata": {},
   "outputs": [
    {
     "data": {
      "text/plain": [
       "8"
      ]
     },
     "execution_count": 116,
     "metadata": {},
     "output_type": "execute_result"
    }
   ],
   "source": [
    "# 0~10까지의 정수중 하나뽑기 (다른함수 사용)\n",
    "random.randint(0,10)"
   ]
  },
  {
   "cell_type": "markdown",
   "id": "d9bf7da9",
   "metadata": {},
   "source": [
    "# Random.rand"
   ]
  },
  {
   "cell_type": "markdown",
   "id": "2685291b",
   "metadata": {},
   "source": [
    "랜덤한 값으로 채워지는 배열 "
   ]
  },
  {
   "cell_type": "markdown",
   "id": "b18d1661",
   "metadata": {},
   "source": [
    "표준정규 분포 난수를 shape 형태의 배열로 생성 0~1 사의 값 가짐\n"
   ]
  },
  {
   "cell_type": "markdown",
   "id": "8f3f07c2",
   "metadata": {},
   "source": [
    "> np.random.rand(shape)"
   ]
  },
  {
   "cell_type": "code",
   "execution_count": 118,
   "id": "113f9dc1",
   "metadata": {},
   "outputs": [
    {
     "name": "stdout",
     "output_type": "stream",
     "text": [
      "[0.13047547 0.60452905 0.73813729]\n"
     ]
    }
   ],
   "source": [
    "print(np.random.rand(3))"
   ]
  },
  {
   "cell_type": "code",
   "execution_count": 119,
   "id": "20b39a03",
   "metadata": {},
   "outputs": [
    {
     "name": "stdout",
     "output_type": "stream",
     "text": [
      "[[0.8617111  0.77267906]\n",
      " [0.48883998 0.18738665]\n",
      " [0.91903858 0.78923856]]\n"
     ]
    }
   ],
   "source": [
    "print(np.random.rand(3,2)) # 3x2 행렬 "
   ]
  },
  {
   "cell_type": "markdown",
   "id": "a8b7ce54",
   "metadata": {},
   "source": [
    "# Random.randn"
   ]
  },
  {
   "cell_type": "markdown",
   "id": "2adb36cd",
   "metadata": {},
   "source": [
    "랜덤한 값으로 채워지는 배열 , 음수도 출력"
   ]
  },
  {
   "cell_type": "markdown",
   "id": "fb99e97e",
   "metadata": {},
   "source": [
    "평균 0, 표준편차1의 가우시안 표준정규분포 난수를 shape 형태의 배열로 생성"
   ]
  },
  {
   "cell_type": "markdown",
   "id": "1433a365",
   "metadata": {},
   "source": [
    "> np.random.randn(shape)"
   ]
  },
  {
   "cell_type": "code",
   "execution_count": 120,
   "id": "a5b0c4ce",
   "metadata": {},
   "outputs": [
    {
     "name": "stdout",
     "output_type": "stream",
     "text": [
      "[ 0.50049703 -1.01344268 -0.07941236]\n"
     ]
    }
   ],
   "source": [
    "print(np.random.randn(3))"
   ]
  },
  {
   "cell_type": "code",
   "execution_count": 121,
   "id": "b9acb83a",
   "metadata": {},
   "outputs": [
    {
     "name": "stdout",
     "output_type": "stream",
     "text": [
      "[[ 0.50532035  0.73125224]\n",
      " [ 0.49777663 -0.96005935]\n",
      " [-0.22108018  1.17919241]]\n"
     ]
    }
   ],
   "source": [
    "print(np.random.randn(3,2))"
   ]
  }
 ],
 "metadata": {
  "kernelspec": {
   "display_name": "Python 3 (ipykernel)",
   "language": "python",
   "name": "python3"
  },
  "language_info": {
   "codemirror_mode": {
    "name": "ipython",
    "version": 3
   },
   "file_extension": ".py",
   "mimetype": "text/x-python",
   "name": "python",
   "nbconvert_exporter": "python",
   "pygments_lexer": "ipython3",
   "version": "3.9.12"
  }
 },
 "nbformat": 4,
 "nbformat_minor": 5
}
