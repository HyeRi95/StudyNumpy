{
 "cells": [
  {
   "cell_type": "markdown",
   "id": "4bd9f240",
   "metadata": {},
   "source": [
    "> np 모듈 호출  "
   ]
  },
  {
   "cell_type": "code",
   "execution_count": 2,
   "id": "879f59d6",
   "metadata": {},
   "outputs": [],
   "source": [
    "import numpy as np"
   ]
  },
  {
   "cell_type": "markdown",
   "id": "0b82d972",
   "metadata": {},
   "source": [
    "> 정상적으로 호출이 됐는지 확인"
   ]
  },
  {
   "cell_type": "code",
   "execution_count": 4,
   "id": "d395f67b",
   "metadata": {},
   "outputs": [
    {
     "data": {
      "text/plain": [
       "array(1)"
      ]
     },
     "execution_count": 4,
     "metadata": {},
     "output_type": "execute_result"
    }
   ],
   "source": [
    "a=np.array(1)\n",
    "a"
   ]
  },
  {
   "cell_type": "markdown",
   "id": "a28475d0",
   "metadata": {},
   "source": [
    "> 배열생성 object>string>float>int"
   ]
  },
  {
   "cell_type": "code",
   "execution_count": 6,
   "id": "130a8ba6",
   "metadata": {},
   "outputs": [
    {
     "name": "stdout",
     "output_type": "stream",
     "text": [
      "[1 2 3]\n"
     ]
    }
   ],
   "source": [
    "ndarr_1= np.array([1,2,3])\n",
    "print(ndarr_1)"
   ]
  },
  {
   "cell_type": "code",
   "execution_count": 7,
   "id": "a86915f2",
   "metadata": {},
   "outputs": [
    {
     "name": "stdout",
     "output_type": "stream",
     "text": [
      "[1. 2. 3.]\n"
     ]
    }
   ],
   "source": [
    "ndarr_2 = np.array([1,2.0,3])\n",
    "print(ndarr_2)"
   ]
  },
  {
   "cell_type": "code",
   "execution_count": 8,
   "id": "ba840ae5",
   "metadata": {},
   "outputs": [
    {
     "name": "stdout",
     "output_type": "stream",
     "text": [
      "['1' '2.0' '3']\n"
     ]
    }
   ],
   "source": [
    "ndarr_3 = np.array([1,2.0,'3'])\n",
    "print(ndarr_3)"
   ]
  },
  {
   "cell_type": "markdown",
   "id": "1cfd8932",
   "metadata": {},
   "source": [
    "> 배열의 정보 확인 ndarray.dtype"
   ]
  },
  {
   "cell_type": "code",
   "execution_count": 9,
   "id": "7119cc43",
   "metadata": {},
   "outputs": [
    {
     "name": "stdout",
     "output_type": "stream",
     "text": [
      "int32\n",
      "float64\n",
      "<U32\n"
     ]
    }
   ],
   "source": [
    "print(ndarr_1.dtype)\n",
    "print(ndarr_2.dtype)\n",
    "print(ndarr_3.dtype)"
   ]
  },
  {
   "cell_type": "code",
   "execution_count": 10,
   "id": "d092d3a7",
   "metadata": {},
   "outputs": [
    {
     "name": "stdout",
     "output_type": "stream",
     "text": [
      "complex128\n",
      "object\n"
     ]
    }
   ],
   "source": [
    "print(np.array(1+2j).dtype)\n",
    "print(np.array(print).dtype)"
   ]
  },
  {
   "cell_type": "markdown",
   "id": "67d2b8d9",
   "metadata": {},
   "source": [
    "dtype 속성을 사용하여 자료형 지정"
   ]
  },
  {
   "cell_type": "code",
   "execution_count": 12,
   "id": "28d90c29",
   "metadata": {},
   "outputs": [
    {
     "name": "stdout",
     "output_type": "stream",
     "text": [
      "int8\n"
     ]
    }
   ],
   "source": [
    "dtype1 = np.array([1,2,3],dtype=np.int8)\n",
    "print(dtype1.dtype)"
   ]
  },
  {
   "cell_type": "code",
   "execution_count": 14,
   "id": "d9e6dc0d",
   "metadata": {},
   "outputs": [
    {
     "name": "stdout",
     "output_type": "stream",
     "text": [
      "float64\n"
     ]
    }
   ],
   "source": [
    "dtype2 = np.array([1,2,3],dtype=float)\n",
    "print(dtype2.dtype)"
   ]
  },
  {
   "cell_type": "code",
   "execution_count": 16,
   "id": "08208ba6",
   "metadata": {},
   "outputs": [
    {
     "name": "stdout",
     "output_type": "stream",
     "text": [
      "<U1\n"
     ]
    }
   ],
   "source": [
    "dtype3 = np.array([1,2,3],dtype=str)\n",
    "print(dtype3.dtype)"
   ]
  },
  {
   "cell_type": "markdown",
   "id": "79f203a4",
   "metadata": {},
   "source": [
    "### 주의해야 할 점 "
   ]
  },
  {
   "cell_type": "code",
   "execution_count": 17,
   "id": "ef328b49",
   "metadata": {},
   "outputs": [
    {
     "name": "stdout",
     "output_type": "stream",
     "text": [
      "[1 2 3]\n",
      "int32\n"
     ]
    }
   ],
   "source": [
    "dtype4 = np.array([1,2,'3'],dtype=int)\n",
    "print(dtype4)\n",
    "print(dtype4.dtype)"
   ]
  },
  {
   "cell_type": "code",
   "execution_count": 18,
   "id": "d694169b",
   "metadata": {},
   "outputs": [
    {
     "ename": "ValueError",
     "evalue": "could not convert string to float: 'data'",
     "output_type": "error",
     "traceback": [
      "\u001b[1;31m---------------------------------------------------------------------------\u001b[0m",
      "\u001b[1;31mValueError\u001b[0m                                Traceback (most recent call last)",
      "Input \u001b[1;32mIn [18]\u001b[0m, in \u001b[0;36m<cell line: 1>\u001b[1;34m()\u001b[0m\n\u001b[1;32m----> 1\u001b[0m dtype5 \u001b[38;5;241m=\u001b[39m \u001b[43mnp\u001b[49m\u001b[38;5;241;43m.\u001b[39;49m\u001b[43marray\u001b[49m\u001b[43m(\u001b[49m\u001b[43m[\u001b[49m\u001b[38;5;241;43m1\u001b[39;49m\u001b[43m,\u001b[49m\u001b[38;5;124;43m'\u001b[39;49m\u001b[38;5;124;43mdata\u001b[39;49m\u001b[38;5;124;43m'\u001b[39;49m\u001b[43m,\u001b[49m\u001b[38;5;28;43mprint\u001b[39;49m\u001b[43m]\u001b[49m\u001b[43m,\u001b[49m\u001b[43mdtype\u001b[49m\u001b[38;5;241;43m=\u001b[39;49m\u001b[38;5;28;43mfloat\u001b[39;49m\u001b[43m)\u001b[49m\n\u001b[0;32m      2\u001b[0m \u001b[38;5;28mprint\u001b[39m(dtype5)\n\u001b[0;32m      3\u001b[0m \u001b[38;5;28mprint\u001b[39m(dtype5\u001b[38;5;241m.\u001b[39mdtype)\n",
      "\u001b[1;31mValueError\u001b[0m: could not convert string to float: 'data'"
     ]
    }
   ],
   "source": [
    "dtype5 = np.array([1,'data',print],dtype=float) # 오류 \n",
    "print(dtype5)\n",
    "print(dtype5.dtype)"
   ]
  },
  {
   "cell_type": "markdown",
   "id": "9b1e59fa",
   "metadata": {},
   "source": [
    "> 배열 크기 확인"
   ]
  },
  {
   "cell_type": "code",
   "execution_count": 19,
   "id": "51b4d05d",
   "metadata": {},
   "outputs": [
    {
     "name": "stdout",
     "output_type": "stream",
     "text": [
      "(3,)\n"
     ]
    }
   ],
   "source": [
    "print(ndarr_1.shape)"
   ]
  },
  {
   "cell_type": "markdown",
   "id": "a7f374b7",
   "metadata": {},
   "source": [
    "> 배열 차원 확인 "
   ]
  },
  {
   "cell_type": "code",
   "execution_count": 20,
   "id": "424b9c1a",
   "metadata": {},
   "outputs": [
    {
     "name": "stdout",
     "output_type": "stream",
     "text": [
      "1\n"
     ]
    }
   ],
   "source": [
    "print(ndarr_1.ndim)"
   ]
  }
 ],
 "metadata": {
  "kernelspec": {
   "display_name": "Python 3 (ipykernel)",
   "language": "python",
   "name": "python3"
  },
  "language_info": {
   "codemirror_mode": {
    "name": "ipython",
    "version": 3
   },
   "file_extension": ".py",
   "mimetype": "text/x-python",
   "name": "python",
   "nbconvert_exporter": "python",
   "pygments_lexer": "ipython3",
   "version": "3.9.12"
  }
 },
 "nbformat": 4,
 "nbformat_minor": 5
}
