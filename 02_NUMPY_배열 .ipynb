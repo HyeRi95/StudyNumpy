{
 "cells": [
  {
   "cell_type": "markdown",
   "id": "5031143d",
   "metadata": {},
   "source": [
    "> 1차원 배열생성"
   ]
  },
  {
   "cell_type": "code",
   "execution_count": 2,
   "id": "9a81deab",
   "metadata": {},
   "outputs": [
    {
     "name": "stdout",
     "output_type": "stream",
     "text": [
      "[1 2 3]\n",
      "(3,)\n",
      "1\n",
      "int32\n"
     ]
    }
   ],
   "source": [
    "import numpy as np\n",
    "vector = np.array([1,2,3])\n",
    "print(vector)\n",
    "print(vector.shape)\n",
    "print(vector.ndim)\n",
    "print(vector.dtype)"
   ]
  },
  {
   "cell_type": "markdown",
   "id": "0ec09c97",
   "metadata": {},
   "source": [
    "> 2차원 배열 생성"
   ]
  },
  {
   "cell_type": "code",
   "execution_count": 5,
   "id": "4a92806d",
   "metadata": {},
   "outputs": [
    {
     "name": "stdout",
     "output_type": "stream",
     "text": [
      "[[1 2 3]\n",
      " [4 5 6]]\n",
      "(2, 3)\n",
      "2\n",
      "int32\n"
     ]
    }
   ],
   "source": [
    "matrix = np.array([[1,2,3],[4,5,6]])\n",
    "print(matrix)\n",
    "print(matrix.shape)\n",
    "print(matrix.ndim)\n",
    "print(matrix.dtype)"
   ]
  },
  {
   "cell_type": "markdown",
   "id": "65b8d440",
   "metadata": {},
   "source": [
    "> 3차원 배열 생성 "
   ]
  },
  {
   "cell_type": "code",
   "execution_count": 6,
   "id": "c2b4b3a4",
   "metadata": {},
   "outputs": [
    {
     "name": "stdout",
     "output_type": "stream",
     "text": [
      "[[[ 1  2  3]\n",
      "  [ 4  5  6]]\n",
      "\n",
      " [[ 7  8  9]\n",
      "  [10 11 12]]]\n",
      "(2, 2, 3)\n",
      "3\n",
      "int32\n"
     ]
    }
   ],
   "source": [
    "tensor = np.array([[[1,2,3],[4,5,6]],[[7,8,9],[10,11,12]]])\n",
    "print(tensor)\n",
    "print(tensor.shape)\n",
    "print(tensor.ndim)\n",
    "print(tensor.dtype)"
   ]
  },
  {
   "cell_type": "markdown",
   "id": "e95049c2",
   "metadata": {},
   "source": [
    "> 배열의 정보 확인"
   ]
  },
  {
   "cell_type": "code",
   "execution_count": 8,
   "id": "e0f61b65",
   "metadata": {},
   "outputs": [
    {
     "name": "stdout",
     "output_type": "stream",
     "text": [
      "3\n",
      "6\n",
      "12\n"
     ]
    }
   ],
   "source": [
    "print(vector.size)\n",
    "print(matrix.size)\n",
    "print(tensor.size)"
   ]
  },
  {
   "cell_type": "markdown",
   "id": "64722b02",
   "metadata": {},
   "source": [
    "- 배열생성"
   ]
  },
  {
   "cell_type": "code",
   "execution_count": 17,
   "id": "8fffe81f",
   "metadata": {
    "scrolled": true
   },
   "outputs": [
    {
     "name": "stdout",
     "output_type": "stream",
     "text": [
      "[[1 2 3]\n",
      " [2 4 6]\n",
      " [3 6 9]]\n",
      "2\n",
      "9\n",
      "(3, 3)\n",
      "int32\n"
     ]
    }
   ],
   "source": [
    "matrix2 = np.array([[1,2,3],[2,4,6],[3,6,9]])\n",
    "print(matrix2)\n",
    "print(matrix2.ndim)\n",
    "print(matrix2.size)\n",
    "print(matrix2.shape)\n",
    "print(matrix2.dtype)"
   ]
  },
  {
   "cell_type": "markdown",
   "id": "3c178f53",
   "metadata": {},
   "source": [
    "## 자료형 변환(리스트)"
   ]
  },
  {
   "cell_type": "markdown",
   "id": "38138675",
   "metadata": {},
   "source": [
    "> 리스트 -> ndarray 변환"
   ]
  },
  {
   "cell_type": "code",
   "execution_count": 18,
   "id": "0f4539eb",
   "metadata": {},
   "outputs": [
    {
     "name": "stdout",
     "output_type": "stream",
     "text": [
      "[1 2 3]\n"
     ]
    }
   ],
   "source": [
    "list1 =[1,2,3]\n",
    "arr1 =np.array(list1)\n",
    "print(arr1)"
   ]
  },
  {
   "cell_type": "markdown",
   "id": "34407e94",
   "metadata": {},
   "source": [
    "> ndarray -> 리스트 변환"
   ]
  },
  {
   "cell_type": "code",
   "execution_count": 19,
   "id": "00a06ca9",
   "metadata": {
    "scrolled": true
   },
   "outputs": [
    {
     "name": "stdout",
     "output_type": "stream",
     "text": [
      "[1, 2, 3]\n"
     ]
    }
   ],
   "source": [
    "arr2 = np.array([1,2,3])\n",
    "list2 = list(arr2)\n",
    "print(list2)"
   ]
  },
  {
   "cell_type": "markdown",
   "id": "6a47367c",
   "metadata": {},
   "source": [
    "> 2차원 리스트 변환"
   ]
  },
  {
   "cell_type": "code",
   "execution_count": 20,
   "id": "92780019",
   "metadata": {},
   "outputs": [
    {
     "name": "stdout",
     "output_type": "stream",
     "text": [
      "[[1 2 3]\n",
      " [4 5 6]]\n"
     ]
    }
   ],
   "source": [
    "list3 = [[1,2,3],[4,5,6]]\n",
    "arr3=np.array(list3)\n",
    "print(arr3)"
   ]
  },
  {
   "cell_type": "markdown",
   "id": "3163c584",
   "metadata": {},
   "source": [
    "> shape이 다른 리스트인 경우 "
   ]
  },
  {
   "cell_type": "code",
   "execution_count": 22,
   "id": "591aa107",
   "metadata": {
    "scrolled": false
   },
   "outputs": [
    {
     "name": "stdout",
     "output_type": "stream",
     "text": [
      "[list([1, 2, 3, 4]) list([5, 6, 7])]\n",
      "2 (2,) 1\n"
     ]
    },
    {
     "name": "stderr",
     "output_type": "stream",
     "text": [
      "C:\\Users\\82102\\AppData\\Local\\Temp\\ipykernel_8856\\3322727475.py:2: VisibleDeprecationWarning: Creating an ndarray from ragged nested sequences (which is a list-or-tuple of lists-or-tuples-or ndarrays with different lengths or shapes) is deprecated. If you meant to do this, you must specify 'dtype=object' when creating the ndarray.\n",
      "  arr4 = np.array(list4)\n"
     ]
    }
   ],
   "source": [
    "list4 = [[1,2,3,4],[5,6,7]] # 데이터 길이 달라서 경고 \n",
    "arr4 = np.array(list4)\n",
    "print(arr4)\n",
    "print(arr4.size, arr4.shape, arr4.ndim)"
   ]
  },
  {
   "cell_type": "markdown",
   "id": "34eb7e0b",
   "metadata": {},
   "source": [
    "> 튜블 -> ndarray 변환"
   ]
  },
  {
   "cell_type": "code",
   "execution_count": 24,
   "id": "e77bbe48",
   "metadata": {},
   "outputs": [
    {
     "name": "stdout",
     "output_type": "stream",
     "text": [
      "[1 2 3]\n"
     ]
    }
   ],
   "source": [
    "tuple1 = (1,2,3)\n",
    "arr = np.array(tuple1)\n",
    "print(arr)"
   ]
  },
  {
   "cell_type": "markdown",
   "id": "7f543e84",
   "metadata": {},
   "source": [
    "> ndarrary -> 튜플 변환"
   ]
  },
  {
   "cell_type": "code",
   "execution_count": 25,
   "id": "8f1dfb05",
   "metadata": {},
   "outputs": [
    {
     "name": "stdout",
     "output_type": "stream",
     "text": [
      "(1, 2, 3)\n"
     ]
    }
   ],
   "source": [
    "arr2 = np.array([1,2,3])\n",
    "tuple2 = tuple(arr2)\n",
    "print(tuple2)"
   ]
  },
  {
   "cell_type": "markdown",
   "id": "eafd2069",
   "metadata": {},
   "source": [
    "## 자료형 변환(세트, 딕셔너리)"
   ]
  },
  {
   "cell_type": "markdown",
   "id": "3b3c7cbe",
   "metadata": {},
   "source": [
    "> 세트변환 # 세트는 np.array 변환 불가능 "
   ]
  },
  {
   "cell_type": "code",
   "execution_count": 29,
   "id": "17b6b124",
   "metadata": {
    "scrolled": false
   },
   "outputs": [
    {
     "name": "stdout",
     "output_type": "stream",
     "text": [
      "{1, 2, 3} 1 ()\n"
     ]
    }
   ],
   "source": [
    "set1 = {1,2,3}\n",
    "arr=np.array(set1)\n",
    "print(arr,arr.size,arr.shape) # shape는 스칼라에서 () \n"
   ]
  },
  {
   "cell_type": "markdown",
   "id": "f674cc0a",
   "metadata": {},
   "source": [
    "> 딕셔너리 변환"
   ]
  },
  {
   "cell_type": "code",
   "execution_count": 31,
   "id": "bb7e482e",
   "metadata": {},
   "outputs": [
    {
     "name": "stdout",
     "output_type": "stream",
     "text": [
      "{'a': 1, 'b': 2, 'c': 3} 1\n"
     ]
    }
   ],
   "source": [
    "dict1 = {'a':1, 'b':2, 'c':3}\n",
    "arr= np.array(dict1)\n",
    "print(arr, arr.size)"
   ]
  },
  {
   "cell_type": "markdown",
   "id": "3dc0bbb4",
   "metadata": {},
   "source": [
    "## 배열 인덱싱"
   ]
  },
  {
   "cell_type": "markdown",
   "id": "24823341",
   "metadata": {},
   "source": [
    "> 리스트 인덱싱과 유사 "
   ]
  },
  {
   "cell_type": "code",
   "execution_count": 35,
   "id": "e5643eb6",
   "metadata": {},
   "outputs": [
    {
     "name": "stdout",
     "output_type": "stream",
     "text": [
      "[[[1, 2], [3, 4]], [[5, 6], [7, 8]]]\n",
      "1\n",
      "4\n",
      "7\n"
     ]
    }
   ],
   "source": [
    "list_ = [[[1,2],[3,4]],[[5,6],[7,8]]]\n",
    "print(list_)\n",
    "# 1 가져오기\n",
    "print(list_[0][0][0])\n",
    "# 4 가져오기\n",
    "print(list_[0][1][1])\n",
    "# 7 가져오기\n",
    "print(list_[1][1][0])\n"
   ]
  },
  {
   "cell_type": "code",
   "execution_count": 40,
   "id": "c9467b13",
   "metadata": {},
   "outputs": [
    {
     "name": "stdout",
     "output_type": "stream",
     "text": [
      "[[[1 2]\n",
      "  [3 4]]\n",
      "\n",
      " [[5 6]\n",
      "  [7 8]]]\n",
      "1\n",
      "4\n",
      "7\n"
     ]
    }
   ],
   "source": [
    "arr_ = np.array([[[1,2],[3,4]],[[5,6],[7,8]]])\n",
    "print(arr_)\n",
    "# 1 가져오기\n",
    "print(arr_[0][0][0])\n",
    "# 4 가져오기\n",
    "print(arr_[0][1][1])\n",
    "# 7 가져오기\n",
    "print(arr_[1][1][0])\n"
   ]
  },
  {
   "cell_type": "markdown",
   "id": "0d9e79bc",
   "metadata": {},
   "source": [
    "> ndarray의 인덱싱"
   ]
  },
  {
   "cell_type": "code",
   "execution_count": 42,
   "id": "3cdcf2b1",
   "metadata": {},
   "outputs": [
    {
     "name": "stdout",
     "output_type": "stream",
     "text": [
      "1\n",
      "4\n",
      "7\n"
     ]
    }
   ],
   "source": [
    "arr_ = np.array([[[1,2],[3,4]],[[5,6],[7,8]]])\n",
    "print(arr_[0,0,0])\n",
    "print(arr_[0,1,1])\n",
    "print(arr_[1,1,0])"
   ]
  },
  {
   "cell_type": "code",
   "execution_count": 45,
   "id": "f0f12da2",
   "metadata": {},
   "outputs": [
    {
     "name": "stdout",
     "output_type": "stream",
     "text": [
      "[[1 2]]\n",
      "\n",
      "\n",
      "[[1 2]\n",
      " [5 6]]\n",
      "\n",
      "\n",
      "[1 4 5]\n",
      "\n",
      "\n",
      "[2 2]\n"
     ]
    }
   ],
   "source": [
    "arr_1 = np.array([[1,2],[3,4],[5,6]])\n",
    "# 0행 가져와 2차원 배열 만들기\n",
    "print(arr_1[[0]]) # row 다중선택\n",
    "print('\\n')\n",
    "#0,2행 가져와 2차원 배열 만들기\n",
    "print(arr_1[[0,2]])\n",
    "print('\\n')\n",
    "# 다음 결과는?\n",
    "print(arr_1[[0,1,2],[0,1,0]])\n",
    "print('\\n')\n",
    "# 같은 위치 데이터 여러번 사용가능\n",
    "print(arr_1[[0,0],[1,1]]) # "
   ]
  },
  {
   "cell_type": "code",
   "execution_count": 70,
   "id": "6170d967",
   "metadata": {},
   "outputs": [
    {
     "name": "stdout",
     "output_type": "stream",
     "text": [
      "[ 1  6  7 11]\n"
     ]
    }
   ],
   "source": [
    "arr2_=np.array([[1,2,3,],[4,5,6,],[7,8,9],[10,11,12]])\n",
    "# 두개의 1차원 배열 만들기\n",
    "b = np.array([0,1,2,3])\n",
    "c = np.array([0,2,0,1])     \n",
    "print(arr2_[b,c])\n"
   ]
  },
  {
   "cell_type": "code",
   "execution_count": 76,
   "id": "dfef7f88",
   "metadata": {},
   "outputs": [
    {
     "name": "stdout",
     "output_type": "stream",
     "text": [
      "[3 4 5]\n"
     ]
    }
   ],
   "source": [
    "arr = np.array([1,2,3,4,5])\n",
    "print(arr[arr>= 3])\n"
   ]
  },
  {
   "cell_type": "code",
   "execution_count": 79,
   "id": "81bdbefb",
   "metadata": {},
   "outputs": [
    {
     "name": "stdout",
     "output_type": "stream",
     "text": [
      "[1 3 5]\n"
     ]
    }
   ],
   "source": [
    "# True, False\n",
    "print(arr[[True, False,True, False,True]])\n"
   ]
  },
  {
   "cell_type": "markdown",
   "id": "29baec0f",
   "metadata": {},
   "source": [
    "- [문제2]"
   ]
  },
  {
   "cell_type": "code",
   "execution_count": 69,
   "id": "e810a6f1",
   "metadata": {},
   "outputs": [
    {
     "name": "stdout",
     "output_type": "stream",
     "text": [
      "[91 93]\n",
      "[96 91]\n"
     ]
    }
   ],
   "source": [
    "score = np.array([[78,91,84,89,93,65],[82,87,96,79,91,73]])\n",
    "print(score[0][score[0]>=90])\n",
    "print(score[1][score[1]>=90])"
   ]
  }
 ],
 "metadata": {
  "kernelspec": {
   "display_name": "Python 3 (ipykernel)",
   "language": "python",
   "name": "python3"
  },
  "language_info": {
   "codemirror_mode": {
    "name": "ipython",
    "version": 3
   },
   "file_extension": ".py",
   "mimetype": "text/x-python",
   "name": "python",
   "nbconvert_exporter": "python",
   "pygments_lexer": "ipython3",
   "version": "3.9.12"
  }
 },
 "nbformat": 4,
 "nbformat_minor": 5
}
