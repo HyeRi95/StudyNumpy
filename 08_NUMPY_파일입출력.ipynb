{
 "cells": [
  {
   "cell_type": "markdown",
   "id": "8d103885",
   "metadata": {},
   "source": [
    "# 파일 입출력 "
   ]
  },
  {
   "cell_type": "markdown",
   "id": "34098ef7",
   "metadata": {},
   "source": [
    "## 파일처리"
   ]
  },
  {
   "cell_type": "markdown",
   "id": "e27dc696",
   "metadata": {},
   "source": [
    "ndarrary의 정보를 파일로 저장할 수 있다"
   ]
  },
  {
   "cell_type": "markdown",
   "id": "bbe0a744",
   "metadata": {},
   "source": [
    "일반적인 파일 확장자는 npy를 사용한다"
   ]
  },
  {
   "cell_type": "markdown",
   "id": "2dd524db",
   "metadata": {},
   "source": [
    "> 파일저장(tofile)"
   ]
  },
  {
   "cell_type": "code",
   "execution_count": 14,
   "id": "6b9937cb",
   "metadata": {},
   "outputs": [
    {
     "name": "stdout",
     "output_type": "stream",
     "text": [
      "[[-0.67728466  1.98078462 -1.10949973 -0.28292628 -1.5973856 ]\n",
      " [-0.39616865  0.60174666  0.03551756 -0.60196724  1.01110401]\n",
      " [-0.66747633 -0.03901015  0.52100055 -0.63498076  0.2657128 ]]\n"
     ]
    }
   ],
   "source": [
    "import numpy as np\n",
    "n = np.random.randn(3,5)\n",
    "print(n)\n",
    "n.tofile('n.npy')"
   ]
  },
  {
   "cell_type": "markdown",
   "id": "77e35df9",
   "metadata": {},
   "source": [
    "> 파일 불러오기(fromfile)"
   ]
  },
  {
   "cell_type": "code",
   "execution_count": 15,
   "id": "3a9e67cb",
   "metadata": {},
   "outputs": [
    {
     "name": "stdout",
     "output_type": "stream",
     "text": [
      "[-0.67728466  1.98078462 -1.10949973 -0.28292628 -1.5973856  -0.39616865\n",
      "  0.60174666  0.03551756 -0.60196724  1.01110401 -0.66747633 -0.03901015\n",
      "  0.52100055 -0.63498076  0.2657128 ]\n"
     ]
    }
   ],
   "source": [
    "m = np.fromfile('C:/STUDY/StudyPython22/jupyter/Numpy/n.npy')\n",
    "print(m)"
   ]
  },
  {
   "cell_type": "markdown",
   "id": "eafbf56d",
   "metadata": {},
   "source": [
    "> 파일저장, 불러오기 (np.save, np.load)"
   ]
  },
  {
   "cell_type": "code",
   "execution_count": 16,
   "id": "ad98c91f",
   "metadata": {},
   "outputs": [
    {
     "name": "stdout",
     "output_type": "stream",
     "text": [
      "[[-0.67728466  1.98078462 -1.10949973 -0.28292628 -1.5973856 ]\n",
      " [-0.39616865  0.60174666  0.03551756 -0.60196724  1.01110401]\n",
      " [-0.66747633 -0.03901015  0.52100055 -0.63498076  0.2657128 ]]\n"
     ]
    }
   ],
   "source": [
    "np.save('n1.npy',n)\n",
    "m1 = np.load('n1.npy')\n",
    "print(m1)"
   ]
  },
  {
   "cell_type": "code",
   "execution_count": 10,
   "id": "9a93f52f",
   "metadata": {},
   "outputs": [
    {
     "ename": "ValueError",
     "evalue": "Cannot load file containing pickled data when allow_pickle=False",
     "output_type": "error",
     "traceback": [
      "\u001b[1;31m---------------------------------------------------------------------------\u001b[0m",
      "\u001b[1;31mValueError\u001b[0m                                Traceback (most recent call last)",
      "Input \u001b[1;32mIn [10]\u001b[0m, in \u001b[0;36m<cell line: 3>\u001b[1;34m()\u001b[0m\n\u001b[0;32m      1\u001b[0m \u001b[38;5;66;03m# n.tofile > n.npy\u001b[39;00m\n\u001b[0;32m      2\u001b[0m \u001b[38;5;66;03m# np.load('n.npy')\u001b[39;00m\n\u001b[1;32m----> 3\u001b[0m \u001b[43mnp\u001b[49m\u001b[38;5;241;43m.\u001b[39;49m\u001b[43mload\u001b[49m\u001b[43m(\u001b[49m\u001b[38;5;124;43m'\u001b[39;49m\u001b[38;5;124;43mn.npy\u001b[39;49m\u001b[38;5;124;43m'\u001b[39;49m\u001b[43m)\u001b[49m\n",
      "File \u001b[1;32mC:\\anaconda\\lib\\site-packages\\numpy\\lib\\npyio.py:445\u001b[0m, in \u001b[0;36mload\u001b[1;34m(file, mmap_mode, allow_pickle, fix_imports, encoding)\u001b[0m\n\u001b[0;32m    442\u001b[0m \u001b[38;5;28;01melse\u001b[39;00m:\n\u001b[0;32m    443\u001b[0m     \u001b[38;5;66;03m# Try a pickle\u001b[39;00m\n\u001b[0;32m    444\u001b[0m     \u001b[38;5;28;01mif\u001b[39;00m \u001b[38;5;129;01mnot\u001b[39;00m allow_pickle:\n\u001b[1;32m--> 445\u001b[0m         \u001b[38;5;28;01mraise\u001b[39;00m \u001b[38;5;167;01mValueError\u001b[39;00m(\u001b[38;5;124m\"\u001b[39m\u001b[38;5;124mCannot load file containing pickled data \u001b[39m\u001b[38;5;124m\"\u001b[39m\n\u001b[0;32m    446\u001b[0m                          \u001b[38;5;124m\"\u001b[39m\u001b[38;5;124mwhen allow_pickle=False\u001b[39m\u001b[38;5;124m\"\u001b[39m)\n\u001b[0;32m    447\u001b[0m     \u001b[38;5;28;01mtry\u001b[39;00m:\n\u001b[0;32m    448\u001b[0m         \u001b[38;5;28;01mreturn\u001b[39;00m pickle\u001b[38;5;241m.\u001b[39mload(fid, \u001b[38;5;241m*\u001b[39m\u001b[38;5;241m*\u001b[39mpickle_kwargs)\n",
      "\u001b[1;31mValueError\u001b[0m: Cannot load file containing pickled data when allow_pickle=False"
     ]
    }
   ],
   "source": [
    "# n.tofile 저장한 n.npy \n",
    "# np.load('n.npy') 오류 \n",
    "np.load('n.npy') "
   ]
  },
  {
   "cell_type": "markdown",
   "id": "b32679e9",
   "metadata": {},
   "source": [
    "> txt 파일 저장 np.savetxt('n.txt'.n)"
   ]
  },
  {
   "cell_type": "code",
   "execution_count": 18,
   "id": "c56792c7",
   "metadata": {},
   "outputs": [],
   "source": [
    "np.savetxt('n.txt',n)"
   ]
  },
  {
   "cell_type": "markdown",
   "id": "fa43f95a",
   "metadata": {},
   "source": [
    "> txt 파일 불러오기 np.loadtxt"
   ]
  },
  {
   "cell_type": "code",
   "execution_count": 19,
   "id": "67374e11",
   "metadata": {},
   "outputs": [
    {
     "data": {
      "text/plain": [
       "array([[-0.67728466,  1.98078462, -1.10949973, -0.28292628, -1.5973856 ],\n",
       "       [-0.39616865,  0.60174666,  0.03551756, -0.60196724,  1.01110401],\n",
       "       [-0.66747633, -0.03901015,  0.52100055, -0.63498076,  0.2657128 ]])"
      ]
     },
     "execution_count": 19,
     "metadata": {},
     "output_type": "execute_result"
    }
   ],
   "source": [
    "np.loadtxt('n.txt')"
   ]
  },
  {
   "cell_type": "markdown",
   "id": "dd217366",
   "metadata": {},
   "source": [
    "> csv 파일 저장, 불러오기"
   ]
  },
  {
   "cell_type": "code",
   "execution_count": 20,
   "id": "5e92a02f",
   "metadata": {},
   "outputs": [],
   "source": [
    "np.savetxt('n.csv',n)"
   ]
  },
  {
   "cell_type": "markdown",
   "id": "8ff4cc81",
   "metadata": {},
   "source": [
    "> csv 파일 불러오기 "
   ]
  },
  {
   "cell_type": "code",
   "execution_count": 21,
   "id": "dcc6b9a3",
   "metadata": {},
   "outputs": [
    {
     "data": {
      "text/plain": [
       "array([[-0.67728466,  1.98078462, -1.10949973, -0.28292628, -1.5973856 ],\n",
       "       [-0.39616865,  0.60174666,  0.03551756, -0.60196724,  1.01110401],\n",
       "       [-0.66747633, -0.03901015,  0.52100055, -0.63498076,  0.2657128 ]])"
      ]
     },
     "execution_count": 21,
     "metadata": {},
     "output_type": "execute_result"
    }
   ],
   "source": [
    "np.loadtxt('n.csv')"
   ]
  },
  {
   "cell_type": "code",
   "execution_count": 25,
   "id": "4ffbc351",
   "metadata": {},
   "outputs": [],
   "source": [
    "# ,를 구분자로 n.csv로 저장\n",
    "np.savetxt('n.csv',n,delimiter = ',')"
   ]
  },
  {
   "cell_type": "code",
   "execution_count": 24,
   "id": "ad186fd4",
   "metadata": {},
   "outputs": [
    {
     "ename": "ValueError",
     "evalue": "could not convert string to float: '-6.772846605943044773e-01,1.980784622807590045e+00,-1.109499725790073832e+00,-2.829262849915861744e-01,-1.597385598936488682e+00'",
     "output_type": "error",
     "traceback": [
      "\u001b[1;31m---------------------------------------------------------------------------\u001b[0m",
      "\u001b[1;31mValueError\u001b[0m                                Traceback (most recent call last)",
      "Input \u001b[1;32mIn [24]\u001b[0m, in \u001b[0;36m<cell line: 2>\u001b[1;34m()\u001b[0m\n\u001b[0;32m      1\u001b[0m \u001b[38;5;66;03m# 기본 구분자가 스페이스라서 바로 불러올수없다 \u001b[39;00m\n\u001b[1;32m----> 2\u001b[0m \u001b[43mnp\u001b[49m\u001b[38;5;241;43m.\u001b[39;49m\u001b[43mloadtxt\u001b[49m\u001b[43m(\u001b[49m\u001b[38;5;124;43m'\u001b[39;49m\u001b[38;5;124;43mn.csv\u001b[39;49m\u001b[38;5;124;43m'\u001b[39;49m\u001b[43m)\u001b[49m\n",
      "File \u001b[1;32mC:\\anaconda\\lib\\site-packages\\numpy\\lib\\npyio.py:1148\u001b[0m, in \u001b[0;36mloadtxt\u001b[1;34m(fname, dtype, comments, delimiter, converters, skiprows, usecols, unpack, ndmin, encoding, max_rows, like)\u001b[0m\n\u001b[0;32m   1143\u001b[0m \u001b[38;5;66;03m# read data in chunks and fill it into an array via resize\u001b[39;00m\n\u001b[0;32m   1144\u001b[0m \u001b[38;5;66;03m# over-allocating and shrinking the array later may be faster but is\u001b[39;00m\n\u001b[0;32m   1145\u001b[0m \u001b[38;5;66;03m# probably not relevant compared to the cost of actually reading and\u001b[39;00m\n\u001b[0;32m   1146\u001b[0m \u001b[38;5;66;03m# converting the data\u001b[39;00m\n\u001b[0;32m   1147\u001b[0m X \u001b[38;5;241m=\u001b[39m \u001b[38;5;28;01mNone\u001b[39;00m\n\u001b[1;32m-> 1148\u001b[0m \u001b[38;5;28;01mfor\u001b[39;00m x \u001b[38;5;129;01min\u001b[39;00m read_data(_loadtxt_chunksize):\n\u001b[0;32m   1149\u001b[0m     \u001b[38;5;28;01mif\u001b[39;00m X \u001b[38;5;129;01mis\u001b[39;00m \u001b[38;5;28;01mNone\u001b[39;00m:\n\u001b[0;32m   1150\u001b[0m         X \u001b[38;5;241m=\u001b[39m np\u001b[38;5;241m.\u001b[39marray(x, dtype)\n",
      "File \u001b[1;32mC:\\anaconda\\lib\\site-packages\\numpy\\lib\\npyio.py:999\u001b[0m, in \u001b[0;36mloadtxt.<locals>.read_data\u001b[1;34m(chunk_size)\u001b[0m\n\u001b[0;32m    995\u001b[0m     \u001b[38;5;28;01mraise\u001b[39;00m \u001b[38;5;167;01mValueError\u001b[39;00m(\u001b[38;5;124m\"\u001b[39m\u001b[38;5;124mWrong number of columns at line \u001b[39m\u001b[38;5;132;01m%d\u001b[39;00m\u001b[38;5;124m\"\u001b[39m\n\u001b[0;32m    996\u001b[0m                      \u001b[38;5;241m%\u001b[39m line_num)\n\u001b[0;32m    998\u001b[0m \u001b[38;5;66;03m# Convert each value according to its column and store\u001b[39;00m\n\u001b[1;32m--> 999\u001b[0m items \u001b[38;5;241m=\u001b[39m [conv(val) \u001b[38;5;28;01mfor\u001b[39;00m (conv, val) \u001b[38;5;129;01min\u001b[39;00m \u001b[38;5;28mzip\u001b[39m(converters, vals)]\n\u001b[0;32m   1001\u001b[0m \u001b[38;5;66;03m# Then pack it according to the dtype's nesting\u001b[39;00m\n\u001b[0;32m   1002\u001b[0m items \u001b[38;5;241m=\u001b[39m pack_items(items, packing)\n",
      "File \u001b[1;32mC:\\anaconda\\lib\\site-packages\\numpy\\lib\\npyio.py:999\u001b[0m, in \u001b[0;36m<listcomp>\u001b[1;34m(.0)\u001b[0m\n\u001b[0;32m    995\u001b[0m     \u001b[38;5;28;01mraise\u001b[39;00m \u001b[38;5;167;01mValueError\u001b[39;00m(\u001b[38;5;124m\"\u001b[39m\u001b[38;5;124mWrong number of columns at line \u001b[39m\u001b[38;5;132;01m%d\u001b[39;00m\u001b[38;5;124m\"\u001b[39m\n\u001b[0;32m    996\u001b[0m                      \u001b[38;5;241m%\u001b[39m line_num)\n\u001b[0;32m    998\u001b[0m \u001b[38;5;66;03m# Convert each value according to its column and store\u001b[39;00m\n\u001b[1;32m--> 999\u001b[0m items \u001b[38;5;241m=\u001b[39m [\u001b[43mconv\u001b[49m\u001b[43m(\u001b[49m\u001b[43mval\u001b[49m\u001b[43m)\u001b[49m \u001b[38;5;28;01mfor\u001b[39;00m (conv, val) \u001b[38;5;129;01min\u001b[39;00m \u001b[38;5;28mzip\u001b[39m(converters, vals)]\n\u001b[0;32m   1001\u001b[0m \u001b[38;5;66;03m# Then pack it according to the dtype's nesting\u001b[39;00m\n\u001b[0;32m   1002\u001b[0m items \u001b[38;5;241m=\u001b[39m pack_items(items, packing)\n",
      "File \u001b[1;32mC:\\anaconda\\lib\\site-packages\\numpy\\lib\\npyio.py:736\u001b[0m, in \u001b[0;36m_getconv.<locals>.floatconv\u001b[1;34m(x)\u001b[0m\n\u001b[0;32m    734\u001b[0m \u001b[38;5;28;01mif\u001b[39;00m \u001b[38;5;124m'\u001b[39m\u001b[38;5;124m0x\u001b[39m\u001b[38;5;124m'\u001b[39m \u001b[38;5;129;01min\u001b[39;00m x:\n\u001b[0;32m    735\u001b[0m     \u001b[38;5;28;01mreturn\u001b[39;00m \u001b[38;5;28mfloat\u001b[39m\u001b[38;5;241m.\u001b[39mfromhex(x)\n\u001b[1;32m--> 736\u001b[0m \u001b[38;5;28;01mreturn\u001b[39;00m \u001b[38;5;28;43mfloat\u001b[39;49m\u001b[43m(\u001b[49m\u001b[43mx\u001b[49m\u001b[43m)\u001b[49m\n",
      "\u001b[1;31mValueError\u001b[0m: could not convert string to float: '-6.772846605943044773e-01,1.980784622807590045e+00,-1.109499725790073832e+00,-2.829262849915861744e-01,-1.597385598936488682e+00'"
     ]
    }
   ],
   "source": [
    "# 기본 구분자가 스페이스라서 바로 불러올수없다 \n",
    "np.loadtxt('n.csv')"
   ]
  },
  {
   "cell_type": "code",
   "execution_count": 31,
   "id": "2954ab53",
   "metadata": {},
   "outputs": [
    {
     "data": {
      "text/plain": [
       "array([['-6.772846605943044773e-01', '1.980784622807590045e+00',\n",
       "        '-1.109499725790073832e+00', '-2.829262849915861744e-01',\n",
       "        '-1.597385598936488682e+00'],\n",
       "       ['-3.961686526071622194e-01', '6.017466618666894584e-01',\n",
       "        '3.551756353253721077e-02', '-6.019672362699827195e-01',\n",
       "        '1.011104011689461402e+00'],\n",
       "       ['-6.674763304717067358e-01', '-3.901015435091257505e-02',\n",
       "        '5.210005472716490171e-01', '-6.349807578248173323e-01',\n",
       "        '2.657127978163794646e-01']], dtype='<U25')"
      ]
     },
     "execution_count": 31,
     "metadata": {},
     "output_type": "execute_result"
    }
   ],
   "source": [
    "# ,를 구분자로 n.csv 저장했기 때문에 파일을 불러올때도 , 를 구분자로 해줘야 불러올수있다\n",
    "np.loadtxt('n.csv',delimiter = ',',dtype=str) # dtype 을 str 해서 문자열로 불러오기 "
   ]
  },
  {
   "cell_type": "markdown",
   "id": "6bd2ad74",
   "metadata": {},
   "source": [
    "- 문제1"
   ]
  },
  {
   "cell_type": "code",
   "execution_count": 46,
   "id": "6ed789ce",
   "metadata": {},
   "outputs": [],
   "source": [
    "arr_test1 = np.arange(1,26).reshape(5,5)\n",
    "np.savetxt('data.csv',arr_test1,delimiter=',')"
   ]
  },
  {
   "cell_type": "code",
   "execution_count": 47,
   "id": "c1b36bb5",
   "metadata": {},
   "outputs": [
    {
     "data": {
      "text/plain": [
       "array([[ 1,  2,  3,  4,  5],\n",
       "       [ 6,  7,  8,  9, 10],\n",
       "       [11, 12, 13, 14, 15],\n",
       "       [16, 17, 18, 19, 20],\n",
       "       [21, 22, 23, 24, 25]], dtype=int8)"
      ]
     },
     "execution_count": 47,
     "metadata": {},
     "output_type": "execute_result"
    }
   ],
   "source": [
    "np.loadtxt('data.csv',delimiter=',', dtype=np.int8)"
   ]
  },
  {
   "cell_type": "code",
   "execution_count": 59,
   "id": "e7a8dade",
   "metadata": {},
   "outputs": [
    {
     "data": {
      "text/plain": [
       "array([[ 1,  2,  3,  4,  5],\n",
       "       [ 6,  7,  8,  9, 10],\n",
       "       [11, 12, 13, 14, 15],\n",
       "       [16, 17, 18, 19, 20],\n",
       "       [21, 22, 23, 24, 25]])"
      ]
     },
     "execution_count": 59,
     "metadata": {},
     "output_type": "execute_result"
    }
   ],
   "source": [
    "# 1 다른풀이 \n",
    "np.savetxt('data1.csv',np.arange(1,26,dtype=np.int8).reshape(5,5),delimiter=',')\n",
    "np.loadtxt('data1.csv',delimiter=',', dtype=int)"
   ]
  },
  {
   "cell_type": "markdown",
   "id": "a6d333e1",
   "metadata": {},
   "source": [
    "- 문제2"
   ]
  },
  {
   "cell_type": "code",
   "execution_count": 51,
   "id": "6881656e",
   "metadata": {},
   "outputs": [
    {
     "data": {
      "text/plain": [
       "array([['1', '15', '14', '4'],\n",
       "       ['12', '6', '7', '9'],\n",
       "       ['8', '10', '11', '5'],\n",
       "       ['13', '3', '2', '16']], dtype='<U2')"
      ]
     },
     "execution_count": 51,
     "metadata": {},
     "output_type": "execute_result"
    }
   ],
   "source": [
    "arr1=np.loadtxt('C:/STUDY/StudyNumpy/data/06_data1.txt', dtype=str)\n",
    "arr1"
   ]
  },
  {
   "cell_type": "code",
   "execution_count": 53,
   "id": "f6342211",
   "metadata": {},
   "outputs": [
    {
     "data": {
      "text/plain": [
       "array([['1', '15', '14', '4'],\n",
       "       ['12', '6', '7', '9'],\n",
       "       ['8', '10', '11', '5'],\n",
       "       ['13', '3', '2', '16']], dtype='<U2')"
      ]
     },
     "execution_count": 53,
     "metadata": {},
     "output_type": "execute_result"
    }
   ],
   "source": [
    "# 2 다른풀이 \n",
    "np.loadtxt('C:/STUDY/StudyNumpy/data/06_data1.txt',delimiter='\\t', dtype = np.str_) # np.str_:numpy에서 제공 "
   ]
  },
  {
   "cell_type": "markdown",
   "id": "b2ec651e",
   "metadata": {},
   "source": [
    "- 문제3"
   ]
  },
  {
   "cell_type": "code",
   "execution_count": 55,
   "id": "027b0b0a",
   "metadata": {},
   "outputs": [
    {
     "data": {
      "text/plain": [
       "array([[ 1, 15, 14,  4],\n",
       "       [12,  6,  7,  9],\n",
       "       [ 8, 10, 11,  5],\n",
       "       [13,  3,  2, 16]])"
      ]
     },
     "execution_count": 55,
     "metadata": {},
     "output_type": "execute_result"
    }
   ],
   "source": [
    "arr2 = np.loadtxt('C:/STUDY/StudyNumpy/data/06_data2.txt',delimiter=',',dtype=int)# np.int8 사용도 가능 \n",
    "arr2"
   ]
  },
  {
   "cell_type": "markdown",
   "id": "0bc8e579",
   "metadata": {},
   "source": [
    "### 예제 1 : 지역별 전기요금 데이터 현황 "
   ]
  },
  {
   "cell_type": "markdown",
   "id": "b4fbf327",
   "metadata": {},
   "source": [
    "> 데이터 불러오기"
   ]
  },
  {
   "cell_type": "code",
   "execution_count": 61,
   "id": "12e22afc",
   "metadata": {},
   "outputs": [
    {
     "name": "stdout",
     "output_type": "stream",
     "text": [
      "[[      1  565082     273   27177]\n",
      " [      2 2827233     444   45111]\n",
      " [      3 1144913     289   29043]\n",
      " [      4 1131034     230   22436]\n",
      " [      5  380425     391   38020]]\n"
     ]
    }
   ],
   "source": [
    "data = np.loadtxt('C:/STUDY/StudyNumpy/data/ex1_지역별전기요금.csv', delimiter=',', dtype=int)\n",
    "print(data[:5,:]) # 상위 5개데이터 출력 "
   ]
  },
  {
   "cell_type": "markdown",
   "id": "474ba917",
   "metadata": {},
   "source": [
    "> 데이터 확인하기"
   ]
  },
  {
   "cell_type": "code",
   "execution_count": 63,
   "id": "dd50fcb6",
   "metadata": {},
   "outputs": [
    {
     "name": "stdout",
     "output_type": "stream",
     "text": [
      "(17, 4)\n"
     ]
    }
   ],
   "source": [
    "# 데이터의 모양 확인\n",
    "print(data.shape)"
   ]
  },
  {
   "cell_type": "code",
   "execution_count": 65,
   "id": "02a94601",
   "metadata": {},
   "outputs": [
    {
     "name": "stdout",
     "output_type": "stream",
     "text": [
      "[ 1  2  3  4  5  6  7  8  9 10 11 12 13 14 15 16 17]\n"
     ]
    }
   ],
   "source": [
    "# 중복지역 확인\n",
    "print(np.unique(data[:,0])) # 인덱스 확인 "
   ]
  },
  {
   "cell_type": "code",
   "execution_count": 66,
   "id": "9ae48da7",
   "metadata": {},
   "outputs": [
    {
     "name": "stdout",
     "output_type": "stream",
     "text": [
      "[ 9 14 10  4  6  0 16 13  5 12 11 15  7  3  2  8  1]\n"
     ]
    }
   ],
   "source": [
    "# 1열 데이터 크기순 인덱스 값 정렬( argsort 사용)\n",
    "print(data[:,1].argsort())"
   ]
  },
  {
   "cell_type": "code",
   "execution_count": 67,
   "id": "63f5f749",
   "metadata": {},
   "outputs": [
    {
     "name": "stdout",
     "output_type": "stream",
     "text": [
      "[[     10   49394     580   57091]\n",
      " [     15  258605     221   22180]\n",
      " [     11  323151     353   35470]\n",
      " [      5  380425     391   38020]\n",
      " [      7  425659     344   32331]\n",
      " [      1  565082     273   27177]\n",
      " [     17  584500     268   26899]\n",
      " [     14  634696     285   28556]\n",
      " [      6  668623     364   35245]\n",
      " [     13  726699     249   25120]\n",
      " [     12  734723     398   40049]\n",
      " [     16  742285     282   27901]\n",
      " [      8  947300     366   36274]\n",
      " [      4 1131034     230   22436]\n",
      " [      3 1144913     289   29043]\n",
      " [      9 2737725     361   36569]\n",
      " [      2 2827233     444   45111]]\n"
     ]
    }
   ],
   "source": [
    "# fancy index\n",
    "print(data[data[:,1].argsort()]) # 첫번째열 기준으로 오름차순 정렬 "
   ]
  },
  {
   "cell_type": "code",
   "execution_count": 68,
   "id": "d187c9a1",
   "metadata": {},
   "outputs": [
    {
     "name": "stdout",
     "output_type": "stream",
     "text": [
      "[[      2 2827233     444   45111]\n",
      " [      9 2737725     361   36569]\n",
      " [      3 1144913     289   29043]\n",
      " [      4 1131034     230   22436]\n",
      " [      8  947300     366   36274]\n",
      " [     16  742285     282   27901]\n",
      " [     12  734723     398   40049]\n",
      " [     13  726699     249   25120]\n",
      " [      6  668623     364   35245]\n",
      " [     14  634696     285   28556]\n",
      " [     17  584500     268   26899]\n",
      " [      1  565082     273   27177]\n",
      " [      7  425659     344   32331]\n",
      " [      5  380425     391   38020]\n",
      " [     11  323151     353   35470]\n",
      " [     15  258605     221   22180]\n",
      " [     10   49394     580   57091]]\n"
     ]
    }
   ],
   "source": [
    "print(data[data[:,1].argsort()[::-1]]) # 내림차순 정렬 "
   ]
  },
  {
   "cell_type": "markdown",
   "id": "d0435969",
   "metadata": {},
   "source": [
    "> 데이터 통계"
   ]
  },
  {
   "cell_type": "code",
   "execution_count": 71,
   "id": "dfdbbbd2",
   "metadata": {},
   "outputs": [
    {
     "name": "stdout",
     "output_type": "stream",
     "text": [
      "14882047\n"
     ]
    }
   ],
   "source": [
    "# 전국대상 가구수의 합\n",
    "print(np.sum(data[:,1]))"
   ]
  },
  {
   "cell_type": "code",
   "execution_count": 76,
   "id": "a8f15446",
   "metadata": {},
   "outputs": [
    {
     "data": {
      "text/plain": [
       "335.18"
      ]
     },
     "execution_count": 76,
     "metadata": {},
     "output_type": "execute_result"
    }
   ],
   "source": [
    "# 가구당 평균 전력 사용량의 전국 평균값\n",
    "round(np.mean(data[:,2]),2) \n",
    "# print(round(data[:,2].mean(),2)) # round 소수점 n 자리까지 표현 "
   ]
  },
  {
   "cell_type": "code",
   "execution_count": 75,
   "id": "767914fe",
   "metadata": {},
   "outputs": [
    {
     "data": {
      "text/plain": [
       "335.1764705882353"
      ]
     },
     "execution_count": 75,
     "metadata": {},
     "output_type": "execute_result"
    }
   ],
   "source": [
    "np.mean(data[:,2])"
   ]
  },
  {
   "cell_type": "code",
   "execution_count": 83,
   "id": "4c7bdec5",
   "metadata": {},
   "outputs": [
    {
     "name": "stdout",
     "output_type": "stream",
     "text": [
      "가구당 평균 전력 사용량의 전국 평균값 : 335.18\n"
     ]
    }
   ],
   "source": [
    "# 무식하게 평균 구하기\n",
    "e_sum=np.sum(data[:,2]) # 합계 구하기\n",
    "e_sum\n",
    "n_rows = data.shape[0] # 행의 갯수 \n",
    "print('가구당 평균 전력 사용량의 전국 평균값 :', round(e_sum/n_rows,2))# 17행으로 합계 나눠주기 "
   ]
  },
  {
   "cell_type": "code",
   "execution_count": 87,
   "id": "55cc6bbd",
   "metadata": {},
   "outputs": [
    {
     "name": "stdout",
     "output_type": "stream",
     "text": [
      "[[      2 2827233]\n",
      " [      5  380425]\n",
      " [      6  668623]\n",
      " [      7  425659]\n",
      " [      8  947300]\n",
      " [      9 2737725]\n",
      " [     10   49394]\n",
      " [     11  323151]\n",
      " [     12  734723]]\n"
     ]
    }
   ],
   "source": [
    "# 가구당 평균 전력 사용량이 평균이상인 지역과 대상 가구수 추출\n",
    "avg_ = np.mean(data[:,2])\n",
    "print(data[data[:,2]>avg_,0:2]) # data 2열의 값이 avg_보다 큰행의 0~2열의 값을 출력 "
   ]
  },
  {
   "cell_type": "markdown",
   "id": "bd1d14b2",
   "metadata": {},
   "source": [
    "### 예제2 : 전년대비 시도별 교통사망사고 데이터 현황"
   ]
  },
  {
   "cell_type": "markdown",
   "id": "5184a983",
   "metadata": {},
   "source": [
    "- 문제1. 위 파일을 읽어오고 상위3개의 (발생년도, 발생건수, 구성비)의 데이터 추출하기 "
   ]
  },
  {
   "cell_type": "code",
   "execution_count": 163,
   "id": "7bb56f6a",
   "metadata": {},
   "outputs": [
    {
     "data": {
      "text/plain": [
       "array([[ 2.014e+03,  1.000e+00,  2.180e+02,  4.800e+00, -9.000e+00,\n",
       "        -4.000e+00],\n",
       "       [ 2.014e+03,  2.000e+00,  8.720e+02,  1.900e+01, -4.500e+01,\n",
       "        -4.900e+00],\n",
       "       [ 2.014e+03,  3.000e+00,  4.010e+02,  8.700e+00, -4.500e+01,\n",
       "        -1.010e+01],\n",
       "       [ 2.014e+03,  4.000e+00,  4.640e+02,  1.010e+01, -4.100e+01,\n",
       "        -8.100e+00],\n",
       "       [ 2.014e+03,  5.000e+00,  9.900e+01,  2.200e+00, -5.000e+00,\n",
       "        -4.800e+00],\n",
       "       [ 2.014e+03,  6.000e+00,  1.820e+02,  4.000e+00,  1.900e+01,\n",
       "         1.170e+01],\n",
       "       [ 2.014e+03,  7.000e+00,  9.900e+01,  2.200e+00,  8.000e+00,\n",
       "         8.800e+00],\n",
       "       [ 2.014e+03,  8.000e+00,  1.630e+02,  3.600e+00, -4.700e+01,\n",
       "        -2.240e+01],\n",
       "       [ 2.014e+03,  9.000e+00,  3.860e+02,  8.400e+00,  1.400e+01,\n",
       "         3.800e+00],\n",
       "       [ 2.014e+03,  1.000e+01,  2.000e+01,  4.000e-01,  0.000e+00,\n",
       "         0.000e+00],\n",
       "       [ 2.014e+03,  1.100e+01,  1.030e+02,  2.200e+00, -1.600e+01,\n",
       "        -1.340e+01],\n",
       "       [ 2.014e+03,  1.200e+01,  1.440e+02,  3.100e+00, -6.000e+00,\n",
       "        -4.000e+00],\n",
       "       [ 2.014e+03,  1.300e+01,  4.000e+02,  8.700e+00, -3.500e+01,\n",
       "        -8.000e+00],\n",
       "       [ 2.014e+03,  1.400e+01,  3.170e+02,  6.900e+00, -3.500e+01,\n",
       "        -9.900e+00],\n",
       "       [ 2.014e+03,  1.500e+01,  8.600e+01,  1.900e+00, -1.400e+01,\n",
       "        -1.400e+01],\n",
       "       [ 2.014e+03,  1.600e+01,  3.870e+02,  8.400e+00, -5.000e+00,\n",
       "        -1.300e+00],\n",
       "       [ 2.014e+03,  1.700e+01,  2.420e+02,  5.300e+00, -3.100e+01,\n",
       "        -1.140e+01]])"
      ]
     },
     "execution_count": 163,
     "metadata": {},
     "output_type": "execute_result"
    }
   ],
   "source": [
    "data_2 = np.loadtxt('C:/STUDY/StudyNumpy/data/ex2_전년대비_시도별_교통사망사고.csv', delimiter=',', dtype =float)\n",
    "data_2"
   ]
  },
  {
   "cell_type": "code",
   "execution_count": 175,
   "id": "f508e68a",
   "metadata": {},
   "outputs": [
    {
     "data": {
      "text/plain": [
       "(17, 6)"
      ]
     },
     "execution_count": 175,
     "metadata": {},
     "output_type": "execute_result"
    }
   ],
   "source": [
    "data_2.shape"
   ]
  },
  {
   "cell_type": "code",
   "execution_count": 177,
   "id": "cbddcf6e",
   "metadata": {},
   "outputs": [
    {
     "data": {
      "text/plain": [
       "array([ 1.,  2.,  3.,  4.,  5.,  6.,  7.,  8.,  9., 10., 11., 12., 13.,\n",
       "       14., 15., 16., 17.])"
      ]
     },
     "execution_count": 177,
     "metadata": {},
     "output_type": "execute_result"
    }
   ],
   "source": [
    "np.unique(data_2[:,1])"
   ]
  },
  {
   "cell_type": "code",
   "execution_count": 164,
   "id": "7c3a5f15",
   "metadata": {},
   "outputs": [
    {
     "name": "stdout",
     "output_type": "stream",
     "text": [
      "[[2014.   218.     4.8]\n",
      " [2014.   872.    19. ]\n",
      " [2014.   401.     8.7]]\n"
     ]
    }
   ],
   "source": [
    "print(data_2[:3,[0,2,3]]) "
   ]
  },
  {
   "cell_type": "markdown",
   "id": "a7162679",
   "metadata": {},
   "source": [
    "- 문제2. 위 데이터에서 부산에서 발생한 교통사고 사망 사고 모든 현황을 추출해 봅시다 "
   ]
  },
  {
   "cell_type": "code",
   "execution_count": 165,
   "id": "ebfdbfc3",
   "metadata": {},
   "outputs": [
    {
     "data": {
      "text/plain": [
       "array([[2014. ,    8. ,  163. ,    3.6,  -47. ,  -22.4]])"
      ]
     },
     "execution_count": 165,
     "metadata": {},
     "output_type": "execute_result"
    }
   ],
   "source": [
    "data_busan=data_2[data_2[:,1]== 8,:]\n",
    "data_busan"
   ]
  },
  {
   "cell_type": "markdown",
   "id": "0b060f8f",
   "metadata": {},
   "source": [
    "- 문제3.위 데이터에서 전국 사고 발생건수의 합계와 전국 평균을 계산해봅시다"
   ]
  },
  {
   "cell_type": "code",
   "execution_count": 185,
   "id": "8b9fe69d",
   "metadata": {},
   "outputs": [
    {
     "name": "stdout",
     "output_type": "stream",
     "text": [
      "전국 사고 발생건수 합계 :  4583.0\n",
      "전국 사고 발생건수 평균 :  269.5882352941176\n"
     ]
    }
   ],
   "source": [
    "print('전국 사고 발생건수 합계 : ', np.sum(data_2[:,2]))\n",
    "print('전국 사고 발생건수 평균 : ', np.mean(data_2[:,2]))"
   ]
  },
  {
   "cell_type": "markdown",
   "id": "aaad994d",
   "metadata": {},
   "source": [
    "- 문제4. 위 데이터에서 교통사고 증감수가 가장 큰지역의 모든 현황을 추출해 봅시다(argmax 사용) "
   ]
  },
  {
   "cell_type": "code",
   "execution_count": 167,
   "id": "766acbb9",
   "metadata": {},
   "outputs": [
    {
     "name": "stdout",
     "output_type": "stream",
     "text": [
      "[2014.     6.   182.     4.    19.    11.7]\n"
     ]
    }
   ],
   "source": [
    "print(data_2[data_2[:,4].argmax(),:])"
   ]
  },
  {
   "cell_type": "code",
   "execution_count": 188,
   "id": "4c484675",
   "metadata": {},
   "outputs": [
    {
     "name": "stdout",
     "output_type": "stream",
     "text": [
      "[[2014.     6.   182.     4.    19.    11.7]]\n"
     ]
    }
   ],
   "source": [
    "# 다른풀이\n",
    "print(data_2[data_2[:,4]==max(data_2[:,4])])"
   ]
  },
  {
   "cell_type": "markdown",
   "id": "900930b0",
   "metadata": {},
   "source": [
    "- 문제5. 위 데이터에서 교통사고 증감률이 가장 작은 지역의 모든 현황을 추출해 봅시다 "
   ]
  },
  {
   "cell_type": "code",
   "execution_count": 168,
   "id": "11e57116",
   "metadata": {},
   "outputs": [
    {
     "name": "stdout",
     "output_type": "stream",
     "text": [
      "[2014.     8.   163.     3.6  -47.   -22.4]\n"
     ]
    }
   ],
   "source": [
    "print(data_2[data_2[:,4].argmin(),:])"
   ]
  },
  {
   "cell_type": "code",
   "execution_count": 189,
   "id": "61a99b46",
   "metadata": {},
   "outputs": [
    {
     "name": "stdout",
     "output_type": "stream",
     "text": [
      "[[2014.     8.   163.     3.6  -47.   -22.4]]\n"
     ]
    }
   ],
   "source": [
    "# 다른풀이\n",
    "print(data_2[data_2[:,4]==min(data_2[:,4])])"
   ]
  },
  {
   "cell_type": "markdown",
   "id": "832c5e10",
   "metadata": {},
   "source": [
    "- 문제6. 위데이터에서 사고 발생건수가 400건 이상인 곳의 지역과 교통사고 발생건수, 증감수, 증감률을 추출해 봅시다."
   ]
  },
  {
   "cell_type": "code",
   "execution_count": 169,
   "id": "e7a44161",
   "metadata": {
    "scrolled": false
   },
   "outputs": [
    {
     "name": "stdout",
     "output_type": "stream",
     "text": [
      "[[  2.  872.  -45.   -4.9]\n",
      " [  3.  401.  -45.  -10.1]\n",
      " [  4.  464.  -41.   -8.1]\n",
      " [ 13.  400.  -35.   -8. ]]\n"
     ]
    }
   ],
   "source": [
    "data_3 = data_2[data_2[:,2]>=400,:]\n",
    "data_3\n",
    "print(data_3[:,[1,2,4,5]])\n",
    "\n",
    "#print(data_2[data_2[:,2]>=400,[1,2,4,5]]) <- 실행 오류 "
   ]
  },
  {
   "cell_type": "code",
   "execution_count": 191,
   "id": "9f1d553b",
   "metadata": {},
   "outputs": [
    {
     "name": "stdout",
     "output_type": "stream",
     "text": [
      "[[  2.  872.  -45.   -4.9]\n",
      " [  3.  401.  -45.  -10.1]\n",
      " [  4.  464.  -41.   -8.1]\n",
      " [ 13.  400.  -35.   -8. ]]\n"
     ]
    }
   ],
   "source": [
    "#다른풀이\n",
    "print(data_2[data_2[:,2]>=400][:,[1,2,4,5]])"
   ]
  }
 ],
 "metadata": {
  "kernelspec": {
   "display_name": "Python 3 (ipykernel)",
   "language": "python",
   "name": "python3"
  },
  "language_info": {
   "codemirror_mode": {
    "name": "ipython",
    "version": 3
   },
   "file_extension": ".py",
   "mimetype": "text/x-python",
   "name": "python",
   "nbconvert_exporter": "python",
   "pygments_lexer": "ipython3",
   "version": "3.9.12"
  }
 },
 "nbformat": 4,
 "nbformat_minor": 5
}
