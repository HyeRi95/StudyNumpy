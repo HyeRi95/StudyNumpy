{
 "cells": [
  {
   "cell_type": "markdown",
   "id": "8b7eaf45",
   "metadata": {},
   "source": [
    "# 배열정렬"
   ]
  },
  {
   "cell_type": "markdown",
   "id": "5f4579f5",
   "metadata": {},
   "source": [
    "## 1차원 배열 정렬"
   ]
  },
  {
   "cell_type": "code",
   "execution_count": 4,
   "id": "78e0665b",
   "metadata": {},
   "outputs": [
    {
     "name": "stdout",
     "output_type": "stream",
     "text": [
      "[50 56 76 95  5]\n"
     ]
    }
   ],
   "source": [
    "import numpy as np\n",
    "# 1 ~ 100 까지 숫자 다섯개 뽑아서 리스트에 저장 \n",
    "vector = np.array([np.random.randint(1,100)\n",
    "                  for n in range(5)])\n",
    "print(vector)"
   ]
  },
  {
   "cell_type": "code",
   "execution_count": 5,
   "id": "71852c79",
   "metadata": {},
   "outputs": [
    {
     "name": "stdout",
     "output_type": "stream",
     "text": [
      "[ 5 50 56 76 95]\n"
     ]
    }
   ],
   "source": [
    "print(np.sort(vector)) # 오름차순 정렬 "
   ]
  },
  {
   "cell_type": "code",
   "execution_count": 8,
   "id": "e8c5df46",
   "metadata": {},
   "outputs": [
    {
     "name": "stdout",
     "output_type": "stream",
     "text": [
      "[95 76 56 50  5]\n"
     ]
    }
   ],
   "source": [
    "print(np.sort(vector)[::-1]) # 내림차순 정렬 "
   ]
  },
  {
   "cell_type": "markdown",
   "id": "a3b38f49",
   "metadata": {},
   "source": [
    "- list내 for 문 "
   ]
  },
  {
   "cell_type": "code",
   "execution_count": 9,
   "id": "6cfde145",
   "metadata": {},
   "outputs": [
    {
     "data": {
      "text/plain": [
       "[0, 1, 2, 3, 4]"
      ]
     },
     "execution_count": 9,
     "metadata": {},
     "output_type": "execute_result"
    }
   ],
   "source": [
    "[i for i in range(5)]"
   ]
  },
  {
   "cell_type": "code",
   "execution_count": 10,
   "id": "ebb13695",
   "metadata": {},
   "outputs": [
    {
     "data": {
      "text/plain": [
       "[3]"
      ]
     },
     "execution_count": 10,
     "metadata": {},
     "output_type": "execute_result"
    }
   ],
   "source": [
    "x = 3\n",
    "[x for i in range(5) if x== i]"
   ]
  },
  {
   "cell_type": "code",
   "execution_count": 12,
   "id": "aba43993",
   "metadata": {},
   "outputs": [
    {
     "data": {
      "text/plain": [
       "[3, 9, 15, 21, 27]"
      ]
     },
     "execution_count": 12,
     "metadata": {},
     "output_type": "execute_result"
    }
   ],
   "source": [
    "list_ =[1,2,3,4,5,6,7,8,9,10]\n",
    "list2_ =[num*3 for num in list_ if num % 2 ==1] # list_ 값중에 2로 나눴을때 나머지가 1인 값들에 3을 곱해준값을 다시 리스트에 저장\n",
    "list2_"
   ]
  },
  {
   "cell_type": "markdown",
   "id": "36fe349d",
   "metadata": {},
   "source": [
    "> 2차원 배열"
   ]
  },
  {
   "cell_type": "code",
   "execution_count": 15,
   "id": "5c304a72",
   "metadata": {},
   "outputs": [
    {
     "name": "stdout",
     "output_type": "stream",
     "text": [
      "[[21 88 84 38 81]\n",
      " [73 56  1 95  7]\n",
      " [ 8 15 63 99 78]\n",
      " [54 48 88 69 12]]\n"
     ]
    }
   ],
   "source": [
    "# randint를 사용하여 1~100 숫자중 20개를 뽑아 4x5 배열 생성\n",
    "matrix = np.array([np.random.randint(1,100)\n",
    "                   for n in range(20)]).reshape(4,5)\n",
    "print(matrix)"
   ]
  },
  {
   "cell_type": "code",
   "execution_count": 16,
   "id": "a010b6c4",
   "metadata": {},
   "outputs": [
    {
     "name": "stdout",
     "output_type": "stream",
     "text": [
      "[[21 38 81 84 88]\n",
      " [ 1  7 56 73 95]\n",
      " [ 8 15 63 78 99]\n",
      " [12 48 54 69 88]]\n"
     ]
    }
   ],
   "source": [
    "print(np.sort(matrix))# 열기준 정렬 (좌우)"
   ]
  },
  {
   "cell_type": "code",
   "execution_count": 17,
   "id": "0a61e28b",
   "metadata": {},
   "outputs": [
    {
     "name": "stdout",
     "output_type": "stream",
     "text": [
      "[[ 8 15  1 38  7]\n",
      " [21 48 63 69 12]\n",
      " [54 56 84 95 78]\n",
      " [73 88 88 99 81]]\n"
     ]
    }
   ],
   "source": [
    "print(np.sort(matrix,axis=0)) # 행기준 정렬(위아래)"
   ]
  },
  {
   "cell_type": "markdown",
   "id": "4b481ac7",
   "metadata": {},
   "source": [
    "## 배열 합치기\n"
   ]
  },
  {
   "cell_type": "markdown",
   "id": "6fc8723b",
   "metadata": {},
   "source": [
    "> np.vstack([arr1,arr2]) 수평"
   ]
  },
  {
   "cell_type": "code",
   "execution_count": 21,
   "id": "f30c9036",
   "metadata": {},
   "outputs": [
    {
     "name": "stdout",
     "output_type": "stream",
     "text": [
      "[[1 2 3]\n",
      " [4 5 6]]\n"
     ]
    }
   ],
   "source": [
    "vector1 = np.array([1,2,3])\n",
    "vector2 = np.array([4,5,6])\n",
    "print(np.vstack([vector1, vector2]))"
   ]
  },
  {
   "cell_type": "markdown",
   "id": "75d435bd",
   "metadata": {},
   "source": [
    "> np.hstack([arr1,arr2]) 수직"
   ]
  },
  {
   "cell_type": "code",
   "execution_count": 20,
   "id": "70d5299b",
   "metadata": {},
   "outputs": [
    {
     "name": "stdout",
     "output_type": "stream",
     "text": [
      "[[1 4]\n",
      " [2 5]\n",
      " [3 6]]\n"
     ]
    }
   ],
   "source": [
    "vector1 = np.array([1,2,3]).reshape(3,1)\n",
    "vector2 = np.array([4,5,6]).reshape(3,1)\n",
    "print(np.hstack([vector1, vector2]))"
   ]
  },
  {
   "cell_type": "markdown",
   "id": "5cccf787",
   "metadata": {},
   "source": [
    "> np.concatenate(arr1,arr2,axis) 2개이상의 배열을 수직 수평으로 합체"
   ]
  },
  {
   "cell_type": "code",
   "execution_count": 35,
   "id": "08a1923b",
   "metadata": {},
   "outputs": [
    {
     "name": "stdout",
     "output_type": "stream",
     "text": [
      "[[1 2 3 4 5 6]]\n"
     ]
    }
   ],
   "source": [
    "vector1=np.array([[1,2,3]])\n",
    "vector2=np.array([[4,5,6]])\n",
    "print(np.concatenate([vector1,vector2],axis=1))"
   ]
  },
  {
   "cell_type": "code",
   "execution_count": 29,
   "id": "fbb6ae71",
   "metadata": {},
   "outputs": [
    {
     "name": "stdout",
     "output_type": "stream",
     "text": [
      "[[1 2 3]\n",
      " [4 5 6]]\n"
     ]
    }
   ],
   "source": [
    "vector1=np.array([[1,2,3]])\n",
    "vector2=np.array([[4,5,6]])\n",
    "print(np.concatenate([vector1,vector2],axis=0)) # 세로로 합치기 "
   ]
  },
  {
   "cell_type": "code",
   "execution_count": 32,
   "id": "f0161ce9",
   "metadata": {},
   "outputs": [
    {
     "name": "stdout",
     "output_type": "stream",
     "text": [
      "[[1 4]\n",
      " [2 5]\n",
      " [3 6]]\n"
     ]
    }
   ],
   "source": [
    "vector1=np.array([1,2,3]).reshape(3,1)\n",
    "vector2=np.array([4,5,6]).reshape(3,1)\n",
    "print(np.concatenate([vector1,vector2],axis=1))# 가로로 "
   ]
  },
  {
   "cell_type": "code",
   "execution_count": 38,
   "id": "a56d9da1",
   "metadata": {},
   "outputs": [
    {
     "name": "stdout",
     "output_type": "stream",
     "text": [
      "[[1 2 4]\n",
      " [3 1 5]\n",
      " [2 3 6]]\n"
     ]
    }
   ],
   "source": [
    "matrix1 = np.array([[1,2,3],[1,2,3]]).reshape(3,2)\n",
    "vector2 = np.array([4,5,6]).reshape(3,1)\n",
    "\n",
    "print(np.concatenate([matrix1, vector2], axis=1))"
   ]
  },
  {
   "cell_type": "code",
   "execution_count": 39,
   "id": "cfa16a92",
   "metadata": {},
   "outputs": [
    {
     "name": "stdout",
     "output_type": "stream",
     "text": [
      "[[1 2]\n",
      " [3 4]\n",
      " [5 6]\n",
      " [7 8]]\n"
     ]
    }
   ],
   "source": [
    "matrix1=np.arange(1,5).reshape(2,2)\n",
    "matrix2=np.arange(5,9).reshape(2,2)\n",
    "print(np.concatenate([matrix1,matrix2],axis=0))"
   ]
  },
  {
   "cell_type": "code",
   "execution_count": 40,
   "id": "afc00601",
   "metadata": {},
   "outputs": [
    {
     "name": "stdout",
     "output_type": "stream",
     "text": [
      "[[1 2 5 6]\n",
      " [3 4 7 8]]\n"
     ]
    }
   ],
   "source": [
    "matrix1=np.arange(1,5).reshape(2,2)\n",
    "matrix2=np.arange(5,9).reshape(2,2)\n",
    "print(np.concatenate([matrix1,matrix2],axis=1))"
   ]
  },
  {
   "cell_type": "markdown",
   "id": "dac6178c",
   "metadata": {},
   "source": [
    "## 행/열 바꾸기 (transpose)"
   ]
  },
  {
   "cell_type": "markdown",
   "id": "a380ef61",
   "metadata": {},
   "source": [
    "> ndarray.transpose() "
   ]
  },
  {
   "cell_type": "markdown",
   "id": "61559c7e",
   "metadata": {},
   "source": [
    "> ndarray.T"
   ]
  },
  {
   "cell_type": "code",
   "execution_count": 43,
   "id": "c848db1e",
   "metadata": {},
   "outputs": [
    {
     "name": "stdout",
     "output_type": "stream",
     "text": [
      "[[5 6]]\n"
     ]
    }
   ],
   "source": [
    "matrix3 = np.array([[5,6]])\n",
    "print(matrix3)"
   ]
  },
  {
   "cell_type": "code",
   "execution_count": 44,
   "id": "c70471ee",
   "metadata": {},
   "outputs": [
    {
     "name": "stdout",
     "output_type": "stream",
     "text": [
      "[[5]\n",
      " [6]]\n"
     ]
    }
   ],
   "source": [
    "print(matrix3.transpose())"
   ]
  },
  {
   "cell_type": "code",
   "execution_count": 45,
   "id": "4e828052",
   "metadata": {},
   "outputs": [
    {
     "name": "stdout",
     "output_type": "stream",
     "text": [
      "(1, 2) (2, 1)\n"
     ]
    }
   ],
   "source": [
    "print(matrix3.shape, matrix3.transpose().shape)"
   ]
  },
  {
   "cell_type": "code",
   "execution_count": 46,
   "id": "8045f90d",
   "metadata": {},
   "outputs": [
    {
     "name": "stdout",
     "output_type": "stream",
     "text": [
      "[[5]\n",
      " [6]]\n"
     ]
    }
   ],
   "source": [
    "print(matrix3.T)"
   ]
  },
  {
   "cell_type": "markdown",
   "id": "cd95736e",
   "metadata": {},
   "source": [
    "## Transpose+ Concatenate"
   ]
  },
  {
   "cell_type": "code",
   "execution_count": 48,
   "id": "cbc0ede0",
   "metadata": {},
   "outputs": [
    {
     "name": "stdout",
     "output_type": "stream",
     "text": [
      "[[1 2]\n",
      " [3 4]\n",
      " [5 6]]\n"
     ]
    }
   ],
   "source": [
    "print(np.concatenate([matrix1, matrix3]))"
   ]
  },
  {
   "cell_type": "code",
   "execution_count": 51,
   "id": "3f455cdd",
   "metadata": {},
   "outputs": [
    {
     "name": "stdout",
     "output_type": "stream",
     "text": [
      "[[1 2 5]\n",
      " [3 4 6]]\n"
     ]
    }
   ],
   "source": [
    "print(np.concatenate([matrix1, matrix3.T],axis=1)) # matrix의 행/열 바꾼뒤 Concatenate 실행 "
   ]
  },
  {
   "cell_type": "markdown",
   "id": "cf8676b5",
   "metadata": {},
   "source": [
    "## 인덱스 반환함수 \n"
   ]
  },
  {
   "cell_type": "markdown",
   "id": "d64d74cf",
   "metadata": {},
   "source": [
    "> argmax, argmin # 최대값 최소값의 인덱스"
   ]
  },
  {
   "cell_type": "code",
   "execution_count": 53,
   "id": "c957b713",
   "metadata": {},
   "outputs": [
    {
     "name": "stdout",
     "output_type": "stream",
     "text": [
      "[[ 1  2  3  4  5]\n",
      " [ 6  7  8  9 10]]\n"
     ]
    }
   ],
   "source": [
    "a =np.arange(1,11).reshape(2,5)\n",
    "print(a)"
   ]
  },
  {
   "cell_type": "code",
   "execution_count": 55,
   "id": "06f14d6e",
   "metadata": {},
   "outputs": [
    {
     "name": "stdout",
     "output_type": "stream",
     "text": [
      "9 0\n"
     ]
    }
   ],
   "source": [
    "print(np.argmax(a),np.argmin(a)) # 값의 인덱스 값을 출력 "
   ]
  },
  {
   "cell_type": "code",
   "execution_count": 58,
   "id": "f24c8dcc",
   "metadata": {},
   "outputs": [
    {
     "name": "stdout",
     "output_type": "stream",
     "text": [
      "[[1 2 3 4]\n",
      " [2 3 4 1]\n",
      " [3 4 1 2]]\n"
     ]
    }
   ],
   "source": [
    "b=np.array([[1,2,3,4],[2,3,4,1],[3,4,1,2]])\n",
    "print(b)"
   ]
  },
  {
   "cell_type": "code",
   "execution_count": 59,
   "id": "6c27b780",
   "metadata": {},
   "outputs": [
    {
     "name": "stdout",
     "output_type": "stream",
     "text": [
      "[3 2 1]\n"
     ]
    }
   ],
   "source": [
    "print(np.argmax(b,axis=1))"
   ]
  },
  {
   "cell_type": "code",
   "execution_count": 60,
   "id": "16128da2",
   "metadata": {},
   "outputs": [
    {
     "name": "stdout",
     "output_type": "stream",
     "text": [
      "[2 2 1 0]\n"
     ]
    }
   ],
   "source": [
    "print(np.argmax(b,axis=0))"
   ]
  },
  {
   "cell_type": "code",
   "execution_count": 61,
   "id": "c43c7fee",
   "metadata": {},
   "outputs": [
    {
     "name": "stdout",
     "output_type": "stream",
     "text": [
      "[0 0 2 1]\n"
     ]
    }
   ],
   "source": [
    "print(np.argmin(b,axis=0))"
   ]
  },
  {
   "cell_type": "markdown",
   "id": "ab009785",
   "metadata": {},
   "source": [
    "## 배열 인덱싱 (Fancy Index)"
   ]
  },
  {
   "cell_type": "code",
   "execution_count": 63,
   "id": "fb6f649d",
   "metadata": {},
   "outputs": [
    {
     "name": "stdout",
     "output_type": "stream",
     "text": [
      "[ 1  2  3  4  5  6  7  8  9 10]\n",
      "[3 4 5 6]\n"
     ]
    }
   ],
   "source": [
    "a = np.arange(1,11)\n",
    "b = np.array([3,4,5,6])\n",
    "print(a)\n",
    "print(b)"
   ]
  },
  {
   "cell_type": "code",
   "execution_count": 64,
   "id": "9b52a768",
   "metadata": {},
   "outputs": [
    {
     "name": "stdout",
     "output_type": "stream",
     "text": [
      "[4 5 6 7]\n"
     ]
    }
   ],
   "source": [
    "print(a[b])"
   ]
  },
  {
   "cell_type": "code",
   "execution_count": null,
   "id": "e5499d54",
   "metadata": {},
   "outputs": [],
   "source": [
    "a = np.arange(10,20)\n",
    "b = np.argmax(a)\n",
    "print(a)\n",
    "print(b) # 제일 높은 값을 가지는 인덱스 번호 출력 "
   ]
  },
  {
   "cell_type": "code",
   "execution_count": 67,
   "id": "be7c73c3",
   "metadata": {},
   "outputs": [
    {
     "name": "stdout",
     "output_type": "stream",
     "text": [
      "19\n"
     ]
    }
   ],
   "source": [
    "print(a[b])"
   ]
  }
 ],
 "metadata": {
  "kernelspec": {
   "display_name": "Python 3 (ipykernel)",
   "language": "python",
   "name": "python3"
  },
  "language_info": {
   "codemirror_mode": {
    "name": "ipython",
    "version": 3
   },
   "file_extension": ".py",
   "mimetype": "text/x-python",
   "name": "python",
   "nbconvert_exporter": "python",
   "pygments_lexer": "ipython3",
   "version": "3.9.12"
  }
 },
 "nbformat": 4,
 "nbformat_minor": 5
}
