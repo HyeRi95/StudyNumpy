{
 "cells": [
  {
   "cell_type": "markdown",
   "id": "491be3be",
   "metadata": {},
   "source": [
    "# 배열연산\n"
   ]
  },
  {
   "cell_type": "markdown",
   "id": "acb80133",
   "metadata": {},
   "source": [
    "## 산술연산\n"
   ]
  },
  {
   "cell_type": "code",
   "execution_count": 2,
   "id": "daee3945",
   "metadata": {},
   "outputs": [
    {
     "name": "stdout",
     "output_type": "stream",
     "text": [
      "[1, 2, 3, 4, 5, 6]\n"
     ]
    }
   ],
   "source": [
    "import numpy as np\n",
    "list1 = [1,2,3]\n",
    "list2 = [4,5,6]\n",
    "print(list1+list2)"
   ]
  },
  {
   "cell_type": "code",
   "execution_count": 3,
   "id": "2740a381",
   "metadata": {},
   "outputs": [
    {
     "name": "stdout",
     "output_type": "stream",
     "text": [
      "[5 7 9]\n"
     ]
    }
   ],
   "source": [
    "arr1 = np.array([1,2,3])\n",
    "arr2 = np.array([4,5,6])\n",
    "print(arr1+arr2)"
   ]
  },
  {
   "cell_type": "markdown",
   "id": "ebf02c83",
   "metadata": {},
   "source": [
    "> 모양이 같은 배열 연산\n"
   ]
  },
  {
   "cell_type": "code",
   "execution_count": 4,
   "id": "1a67a0b3",
   "metadata": {},
   "outputs": [
    {
     "name": "stdout",
     "output_type": "stream",
     "text": [
      "[[12. 14. 16.]\n",
      " [18. 20. 22.]]\n"
     ]
    }
   ],
   "source": [
    "arr1 = np.arange(1,7,dtype = np.float32).reshape(2,3)\n",
    "arr2 = np.arange(11,17,dtype = np.int32).reshape(2,3)\n",
    "print(arr1+arr2)"
   ]
  },
  {
   "cell_type": "code",
   "execution_count": 5,
   "id": "8a8749ac",
   "metadata": {},
   "outputs": [
    {
     "name": "stdout",
     "output_type": "stream",
     "text": [
      "[[10. 10. 10.]\n",
      " [10. 10. 10.]]\n"
     ]
    }
   ],
   "source": [
    "print(arr2-arr1)"
   ]
  },
  {
   "cell_type": "code",
   "execution_count": 6,
   "id": "7d814fcc",
   "metadata": {},
   "outputs": [
    {
     "name": "stdout",
     "output_type": "stream",
     "text": [
      "[[11. 24. 39.]\n",
      " [56. 75. 96.]]\n"
     ]
    }
   ],
   "source": [
    "print(arr1*arr2)"
   ]
  },
  {
   "cell_type": "code",
   "execution_count": 7,
   "id": "ed2bcc2f",
   "metadata": {},
   "outputs": [
    {
     "name": "stdout",
     "output_type": "stream",
     "text": [
      "[[0.09090909 0.16666667 0.23076923]\n",
      " [0.28571429 0.33333333 0.375     ]]\n"
     ]
    }
   ],
   "source": [
    "print(arr1/arr2)"
   ]
  },
  {
   "cell_type": "code",
   "execution_count": 8,
   "id": "87217ac6",
   "metadata": {},
   "outputs": [
    {
     "name": "stdout",
     "output_type": "stream",
     "text": [
      "[[1.00000000e+00 4.09600000e+03 1.59432300e+06]\n",
      " [2.68435456e+08 3.05175781e+10 2.82110991e+12]]\n"
     ]
    }
   ],
   "source": [
    "print(arr1**arr2)"
   ]
  },
  {
   "cell_type": "code",
   "execution_count": 9,
   "id": "d0da697e",
   "metadata": {},
   "outputs": [
    {
     "name": "stdout",
     "output_type": "stream",
     "text": [
      "[[11.  6.  4.]\n",
      " [ 3.  3.  2.]]\n"
     ]
    }
   ],
   "source": [
    "print(arr2//arr1)"
   ]
  },
  {
   "cell_type": "code",
   "execution_count": 10,
   "id": "46fb0f9f",
   "metadata": {},
   "outputs": [
    {
     "name": "stdout",
     "output_type": "stream",
     "text": [
      "[[0. 0. 1.]\n",
      " [2. 0. 4.]]\n"
     ]
    }
   ],
   "source": [
    "print(arr2%arr1)"
   ]
  },
  {
   "cell_type": "markdown",
   "id": "76c0f4aa",
   "metadata": {},
   "source": [
    "## Numpy의 연산함수\n"
   ]
  },
  {
   "cell_type": "markdown",
   "id": "8bf45053",
   "metadata": {},
   "source": [
    "> np.add(arr1, arr2)\n"
   ]
  },
  {
   "cell_type": "code",
   "execution_count": 16,
   "id": "2a1457eb",
   "metadata": {},
   "outputs": [
    {
     "name": "stdout",
     "output_type": "stream",
     "text": [
      "[[12. 14. 16.]\n",
      " [18. 20. 22.]]\n"
     ]
    }
   ],
   "source": [
    "print(np.add(arr1,arr2))"
   ]
  },
  {
   "cell_type": "markdown",
   "id": "98f8bad1",
   "metadata": {},
   "source": [
    "> np.subtract(arr1,arr2)"
   ]
  },
  {
   "cell_type": "code",
   "execution_count": 14,
   "id": "65c91cc3",
   "metadata": {},
   "outputs": [
    {
     "name": "stdout",
     "output_type": "stream",
     "text": [
      "[[-10. -10. -10.]\n",
      " [-10. -10. -10.]]\n"
     ]
    }
   ],
   "source": [
    "print(np.subtract(arr1,arr2))"
   ]
  },
  {
   "cell_type": "markdown",
   "id": "9d68d655",
   "metadata": {},
   "source": [
    "> np.multiply(arr1,arr2)"
   ]
  },
  {
   "cell_type": "code",
   "execution_count": 18,
   "id": "261c1661",
   "metadata": {
    "scrolled": true
   },
   "outputs": [
    {
     "name": "stdout",
     "output_type": "stream",
     "text": [
      "[[11. 24. 39.]\n",
      " [56. 75. 96.]]\n"
     ]
    }
   ],
   "source": [
    "print(np.multiply(arr1,arr2))"
   ]
  },
  {
   "cell_type": "markdown",
   "id": "809e3d01",
   "metadata": {},
   "source": [
    "> np.divide(arr1,arr2)"
   ]
  },
  {
   "cell_type": "code",
   "execution_count": 19,
   "id": "87bc42bb",
   "metadata": {},
   "outputs": [
    {
     "name": "stdout",
     "output_type": "stream",
     "text": [
      "[[0.09090909 0.16666667 0.23076923]\n",
      " [0.28571429 0.33333333 0.375     ]]\n"
     ]
    }
   ],
   "source": [
    "print(np.divide(arr1,arr2))"
   ]
  },
  {
   "cell_type": "markdown",
   "id": "153b251f",
   "metadata": {},
   "source": [
    "> Broadcasting : 연산하고자 하는 배열의 모양이 다른 경우의 연산"
   ]
  },
  {
   "cell_type": "markdown",
   "id": "90c6475a",
   "metadata": {},
   "source": [
    "> 배열과 스칼라의 연산 "
   ]
  },
  {
   "cell_type": "code",
   "execution_count": 20,
   "id": "a2d49b98",
   "metadata": {},
   "outputs": [
    {
     "name": "stdout",
     "output_type": "stream",
     "text": [
      "[11 12 13]\n"
     ]
    }
   ],
   "source": [
    "scalar =10\n",
    "vector = np.array([1,2,3])\n",
    "print(scalar+vector)"
   ]
  },
  {
   "cell_type": "code",
   "execution_count": 21,
   "id": "7b8ee4a9",
   "metadata": {},
   "outputs": [
    {
     "name": "stdout",
     "output_type": "stream",
     "text": [
      "[[11 12 13]\n",
      " [14 15 16]]\n"
     ]
    }
   ],
   "source": [
    "scalar =10\n",
    "matrix = np.array([[1,2,3],[4,5,6]])\n",
    "print(scalar+matrix)"
   ]
  },
  {
   "cell_type": "code",
   "execution_count": 22,
   "id": "80d20e00",
   "metadata": {},
   "outputs": [
    {
     "name": "stdout",
     "output_type": "stream",
     "text": [
      "[[[11 12 13]\n",
      "  [14 15 16]]\n",
      "\n",
      " [[17 18 19]\n",
      "  [20 21 22]]\n",
      "\n",
      " [[23 24 25]\n",
      "  [26 27 28]]]\n"
     ]
    }
   ],
   "source": [
    "scalar = 10\n",
    "tensor = np.array([[[1,2,3],[4,5,6]],\n",
    "                  [[7,8,9],[10,11,12]],\n",
    "                  [[13,14,15],[16,17,18]]])\n",
    "print(scalar + tensor)"
   ]
  },
  {
   "cell_type": "code",
   "execution_count": 24,
   "id": "0e3a715f",
   "metadata": {},
   "outputs": [
    {
     "name": "stdout",
     "output_type": "stream",
     "text": [
      "[[0 0 1]\n",
      " [2 0 4]]\n"
     ]
    }
   ],
   "source": [
    "scalar = 10\n",
    "matrix = np.array([[1,2,3],[4,5,6]])\n",
    "print(scalar%matrix)"
   ]
  },
  {
   "cell_type": "markdown",
   "id": "6c617af3",
   "metadata": {},
   "source": [
    "> vector와 matrix의 연산 "
   ]
  },
  {
   "cell_type": "code",
   "execution_count": 23,
   "id": "df996007",
   "metadata": {},
   "outputs": [
    {
     "name": "stdout",
     "output_type": "stream",
     "text": [
      "[[12 14 16]\n",
      " [15 17 19]\n",
      " [18 20 22]]\n"
     ]
    }
   ],
   "source": [
    "matrix = np.arange(1,10).reshape(3,3)\n",
    "vector = np.arange(11,14).reshape(1,3)\n",
    "print(matrix+vector)"
   ]
  },
  {
   "cell_type": "code",
   "execution_count": 25,
   "id": "433b1fed",
   "metadata": {},
   "outputs": [
    {
     "name": "stdout",
     "output_type": "stream",
     "text": [
      "[[12 13 14]\n",
      " [16 17 18]\n",
      " [20 21 22]]\n"
     ]
    }
   ],
   "source": [
    "matrix = np.arange(1,10).reshape(3,3)\n",
    "vector = np.arange(11,14).reshape(3,1)\n",
    "print(matrix+vector)"
   ]
  },
  {
   "cell_type": "markdown",
   "id": "d0051423",
   "metadata": {},
   "source": [
    "> vector와 vector의 broadcasting 연산"
   ]
  },
  {
   "cell_type": "code",
   "execution_count": 26,
   "id": "40d88c7f",
   "metadata": {},
   "outputs": [
    {
     "name": "stdout",
     "output_type": "stream",
     "text": [
      "[1 2 3]\n",
      "[[1]\n",
      " [2]\n",
      " [3]]\n"
     ]
    }
   ],
   "source": [
    "arr1 = np.array([1,2,3])\n",
    "arr2 = np.array([1,2,3]).reshape(3,1)\n",
    "print(arr1)\n",
    "print(arr2)"
   ]
  },
  {
   "cell_type": "code",
   "execution_count": 27,
   "id": "16b37e0b",
   "metadata": {},
   "outputs": [
    {
     "name": "stdout",
     "output_type": "stream",
     "text": [
      "[[2 3 4]\n",
      " [3 4 5]\n",
      " [4 5 6]]\n"
     ]
    }
   ],
   "source": [
    "print(arr1+arr2) # 둘다 broadcasting 을 했을경우 모양이 같아지면 계산 가능 \n",
    "# 둘다 3x3 행렬로 broadcasting 해서 계산 "
   ]
  },
  {
   "cell_type": "code",
   "execution_count": 28,
   "id": "f9318573",
   "metadata": {},
   "outputs": [
    {
     "data": {
      "text/plain": [
       "<numpy.broadcast at 0x23c0f16ffb0>"
      ]
     },
     "execution_count": 28,
     "metadata": {},
     "output_type": "execute_result"
    }
   ],
   "source": [
    "np.broadcast(arr1,arr2) # 확인 "
   ]
  },
  {
   "cell_type": "markdown",
   "id": "7460ae92",
   "metadata": {},
   "source": [
    "## 행렬 연산 "
   ]
  },
  {
   "cell_type": "markdown",
   "id": "c48ece1b",
   "metadata": {},
   "source": [
    "> np.dot(arr1, arr2) "
   ]
  },
  {
   "cell_type": "code",
   "execution_count": 29,
   "id": "14b260b8",
   "metadata": {},
   "outputs": [
    {
     "name": "stdout",
     "output_type": "stream",
     "text": [
      "[1 4 9]\n"
     ]
    }
   ],
   "source": [
    "arr1 = np.array([1,2,3])\n",
    "arr2 = np.array([1,2,3])\n",
    "print(arr1*arr2)"
   ]
  },
  {
   "cell_type": "code",
   "execution_count": 30,
   "id": "45703ac0",
   "metadata": {},
   "outputs": [
    {
     "name": "stdout",
     "output_type": "stream",
     "text": [
      "14\n"
     ]
    }
   ],
   "source": [
    "arr1 = np.array([1,2,3])\n",
    "arr2 = np.array([1,2,3]).T\n",
    "print(np.dot(arr1,arr2))"
   ]
  },
  {
   "cell_type": "code",
   "execution_count": 31,
   "id": "b6369337",
   "metadata": {},
   "outputs": [
    {
     "name": "stdout",
     "output_type": "stream",
     "text": [
      "14\n"
     ]
    }
   ],
   "source": [
    "print(arr1.dot(arr2))"
   ]
  },
  {
   "cell_type": "code",
   "execution_count": 32,
   "id": "c556257d",
   "metadata": {},
   "outputs": [
    {
     "name": "stdout",
     "output_type": "stream",
     "text": [
      "14\n"
     ]
    }
   ],
   "source": [
    "print(arr1@arr2)"
   ]
  },
  {
   "cell_type": "markdown",
   "id": "8adfa0ab",
   "metadata": {},
   "source": [
    "> 2차원 배열 행렬곱"
   ]
  },
  {
   "cell_type": "code",
   "execution_count": 35,
   "id": "b4099a51",
   "metadata": {},
   "outputs": [
    {
     "name": "stdout",
     "output_type": "stream",
     "text": [
      "[[ 82  88]\n",
      " [199 214]]\n"
     ]
    }
   ],
   "source": [
    "arr3 = np.arange(1,7).reshape(2,3)\n",
    "arr4 = np.arange(11,17).reshape(3,2)\n",
    "print(np.dot(arr3,arr4))"
   ]
  }
 ],
 "metadata": {
  "kernelspec": {
   "display_name": "Python 3 (ipykernel)",
   "language": "python",
   "name": "python3"
  },
  "language_info": {
   "codemirror_mode": {
    "name": "ipython",
    "version": 3
   },
   "file_extension": ".py",
   "mimetype": "text/x-python",
   "name": "python",
   "nbconvert_exporter": "python",
   "pygments_lexer": "ipython3",
   "version": "3.9.12"
  }
 },
 "nbformat": 4,
 "nbformat_minor": 5
}
