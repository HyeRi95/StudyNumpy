{
 "cells": [
  {
   "cell_type": "markdown",
   "id": "ff1fd09b",
   "metadata": {},
   "source": [
    ">배열슬라이싱"
   ]
  },
  {
   "cell_type": "code",
   "execution_count": 3,
   "id": "f47f337c",
   "metadata": {},
   "outputs": [
    {
     "data": {
      "text/plain": [
       "array([[ 1,  2,  3,  4,  5],\n",
       "       [ 6,  7,  8,  9, 10],\n",
       "       [11, 12, 13, 14, 15],\n",
       "       [16, 17, 18, 19, 20]])"
      ]
     },
     "execution_count": 3,
     "metadata": {},
     "output_type": "execute_result"
    }
   ],
   "source": [
    "import numpy as np\n",
    "matrix = np.array([[1,2,3,4,5],\n",
    "                 [6,7,8,9,10],\n",
    "                 [11,12,13,14,15],\n",
    "                 [16,17,18,19,20]])\n",
    "matrix"
   ]
  },
  {
   "cell_type": "markdown",
   "id": "c9aa0f11",
   "metadata": {},
   "source": [
    "> nadarray의 슬라이싱"
   ]
  },
  {
   "cell_type": "code",
   "execution_count": 10,
   "id": "36eb4dec",
   "metadata": {},
   "outputs": [
    {
     "name": "stdout",
     "output_type": "stream",
     "text": [
      "[ 1  6 11 16]\n",
      "[[ 1]\n",
      " [ 6]\n",
      " [11]\n",
      " [16]]\n",
      "[[ 1]\n",
      " [ 6]\n",
      " [11]\n",
      " [16]]\n"
     ]
    }
   ],
   "source": [
    "# 0열 전체 슬라이싱 matrix[row,col]\n",
    "print(matrix[:,0])\n",
    "\n",
    "# 0열 전체 슬라이싱(2차원 유지)\n",
    "print(matrix[:,:1]) # 0번째열부터 1번째열전까지 \n",
    "print(matrix[:,[0]])"
   ]
  },
  {
   "cell_type": "code",
   "execution_count": 9,
   "id": "054b4e45",
   "metadata": {},
   "outputs": [
    {
     "name": "stdout",
     "output_type": "stream",
     "text": [
      "[ 6  7  8  9 10]\n",
      "[ 6  7  8  9 10]\n",
      "[[ 6  7  8  9 10]]\n"
     ]
    }
   ],
   "source": [
    "# 1행 전체 슬라이싱\n",
    "print(matrix[1,:])\n",
    "print(matrix[1]) # rank > row > col 순으로 : (콜론) 생략가능\n",
    "\n",
    "#1행 전체 슬라이싱(2차원유지)\n",
    "print(matrix[1:2,:]) "
   ]
  },
  {
   "cell_type": "code",
   "execution_count": 15,
   "id": "50aab493",
   "metadata": {},
   "outputs": [
    {
     "name": "stdout",
     "output_type": "stream",
     "text": [
      "[[ 4  5]\n",
      " [ 9 10]\n",
      " [14 15]\n",
      " [19 20]]\n",
      "[[ 4  5]\n",
      " [ 9 10]\n",
      " [14 15]\n",
      " [19 20]]\n",
      "[2 3 4]\n",
      "[2 3 4]\n"
     ]
    }
   ],
   "source": [
    "# 3~4열 전체 슬라이싱\n",
    "print(matrix[:,3:5])\n",
    "print(matrix[:,3:])\n",
    "\n",
    "# 0행, 1~3열 슬라이싱\n",
    "print(matrix[0,1:4])\n",
    "print(matrix[0,1:-1])"
   ]
  },
  {
   "cell_type": "code",
   "execution_count": 19,
   "id": "4c43a977",
   "metadata": {},
   "outputs": [
    {
     "name": "stdout",
     "output_type": "stream",
     "text": [
      "[[13 14 15]\n",
      " [18 19 20]]\n",
      "[[13 14 15]\n",
      " [18 19 20]]\n",
      "[[ 7  8]\n",
      " [12 13]]\n",
      "[[ 7  8]\n",
      " [12 13]]\n"
     ]
    }
   ],
   "source": [
    "# 2~3행, 2~4열 슬라이싱\n",
    "print(matrix[2:4,2:])\n",
    "print(matrix[-2:,-3:])\n",
    "\n",
    "#1~2행, 1~2열 슬라이싱\n",
    "print(matrix[1:-1,1:3])\n",
    "print(matrix[1:3,1:3])"
   ]
  },
  {
   "cell_type": "markdown",
   "id": "4cf8cd6f",
   "metadata": {},
   "source": [
    "## 배열 인덱싱, 슬라이싱 복합"
   ]
  },
  {
   "cell_type": "code",
   "execution_count": 23,
   "id": "788084f3",
   "metadata": {},
   "outputs": [
    {
     "name": "stdout",
     "output_type": "stream",
     "text": [
      "[[ 8  9 10]\n",
      " [18 19 20]]\n",
      "[[ 8  9 10]\n",
      " [18 19 20]]\n",
      "[[ 7  9]\n",
      " [12 14]]\n",
      "[[ 7  9]\n",
      " [12 14]]\n"
     ]
    }
   ],
   "source": [
    "# 1,3행, 2~4열 슬라이싱\n",
    "print(matrix[[1,3],2:])\n",
    "print(matrix[[1,3],2:5])\n",
    "\n",
    "# 1~2행, 1~3열 슬라이싱 \n",
    "print(matrix[1:3,[1,3]])\n",
    "print(matrix[1:-1,[1,3]])"
   ]
  },
  {
   "cell_type": "markdown",
   "id": "7f0a84ad",
   "metadata": {},
   "source": [
    "- 문제 3 인덱싱을 사용해 [10,2,6] 배열을 추출해 봅시다 "
   ]
  },
  {
   "cell_type": "code",
   "execution_count": 41,
   "id": "482787a8",
   "metadata": {},
   "outputs": [
    {
     "name": "stdout",
     "output_type": "stream",
     "text": [
      "[10  2  6]\n"
     ]
    }
   ],
   "source": [
    "tensor = np.array([[[1,2,3],\n",
    "                 [4,5,6]],\n",
    "                 [[7,8,9],\n",
    "                 [10,11,12]]])\n",
    "tensor\n",
    "print(tensor[[1,0,0],[1,0,1],[0,1,2]])\n",
    "# tensor[[rank],[row],[col]] <- 첫번째 rank + 첫번째 row + 첫번째 col 합쳐서 배열에 있는 숫자의 위치결정 "
   ]
  },
  {
   "cell_type": "markdown",
   "id": "315a8a73",
   "metadata": {},
   "source": [
    "- 문제 4. 문제3의 tensor 배열에서 인덱싱, 슬라이싱을 사용해 \n",
    "[[1 2]   배열과 [ 9 12] 배열을 추출 해봅시다 \n",
    " [4 5]] "
   ]
  },
  {
   "cell_type": "code",
   "execution_count": 39,
   "id": "188905d5",
   "metadata": {},
   "outputs": [
    {
     "name": "stdout",
     "output_type": "stream",
     "text": [
      "[[1 2]\n",
      " [4 5]]\n",
      "[ 9 12]\n"
     ]
    }
   ],
   "source": [
    "print(tensor[0,:,:2])\n",
    "print(tensor[1,:,2])"
   ]
  }
 ],
 "metadata": {
  "kernelspec": {
   "display_name": "Python 3 (ipykernel)",
   "language": "python",
   "name": "python3"
  },
  "language_info": {
   "codemirror_mode": {
    "name": "ipython",
    "version": 3
   },
   "file_extension": ".py",
   "mimetype": "text/x-python",
   "name": "python",
   "nbconvert_exporter": "python",
   "pygments_lexer": "ipython3",
   "version": "3.9.12"
  }
 },
 "nbformat": 4,
 "nbformat_minor": 5
}
