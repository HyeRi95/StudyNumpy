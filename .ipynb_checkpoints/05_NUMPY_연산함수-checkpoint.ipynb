{
 "cells": [
  {
   "cell_type": "markdown",
   "id": "c0f94fbe",
   "metadata": {},
   "source": [
    "# 연산함수"
   ]
  },
  {
   "cell_type": "markdown",
   "id": "fd3c4687",
   "metadata": {},
   "source": [
    "## 합"
   ]
  },
  {
   "cell_type": "markdown",
   "id": "8464747f",
   "metadata": {},
   "source": [
    "> ndarray.sum()"
   ]
  },
  {
   "cell_type": "code",
   "execution_count": 6,
   "id": "3ad04f7b",
   "metadata": {},
   "outputs": [
    {
     "name": "stdout",
     "output_type": "stream",
     "text": [
      "21\n"
     ]
    }
   ],
   "source": [
    "import numpy as np\n",
    "matrix = np.arange(1,7).reshape(2,3)\n",
    "print(matrix.sum())"
   ]
  },
  {
   "cell_type": "code",
   "execution_count": 7,
   "id": "726dbdab",
   "metadata": {},
   "outputs": [
    {
     "name": "stdout",
     "output_type": "stream",
     "text": [
      "[5 7 9]\n"
     ]
    }
   ],
   "source": [
    "print(matrix.sum(axis=0))"
   ]
  },
  {
   "cell_type": "code",
   "execution_count": 8,
   "id": "959ca175",
   "metadata": {},
   "outputs": [
    {
     "name": "stdout",
     "output_type": "stream",
     "text": [
      "[ 6 15]\n"
     ]
    }
   ],
   "source": [
    "print(matrix.sum(axis=1))"
   ]
  },
  {
   "cell_type": "markdown",
   "id": "5985f471",
   "metadata": {},
   "source": [
    "> 3차원배열 합 "
   ]
  },
  {
   "cell_type": "code",
   "execution_count": 9,
   "id": "6436cd3b",
   "metadata": {},
   "outputs": [
    {
     "name": "stdout",
     "output_type": "stream",
     "text": [
      "[[[ 1  2  3]\n",
      "  [ 4  5  6]]\n",
      "\n",
      " [[ 7  8  9]\n",
      "  [10 11 12]]\n",
      "\n",
      " [[13 14 15]\n",
      "  [16 17 18]]]\n",
      "171\n"
     ]
    }
   ],
   "source": [
    "tensor = np.arange(1,19).reshape(3,2,3)\n",
    "print(tensor)\n",
    "print(tensor.sum())"
   ]
  },
  {
   "cell_type": "code",
   "execution_count": 10,
   "id": "3144cd8b",
   "metadata": {},
   "outputs": [
    {
     "name": "stdout",
     "output_type": "stream",
     "text": [
      "[[21 24 27]\n",
      " [30 33 36]]\n"
     ]
    }
   ],
   "source": [
    "print(tensor.sum(axis=0))"
   ]
  },
  {
   "cell_type": "code",
   "execution_count": 11,
   "id": "e9d23d0e",
   "metadata": {},
   "outputs": [
    {
     "name": "stdout",
     "output_type": "stream",
     "text": [
      "[[ 5  7  9]\n",
      " [17 19 21]\n",
      " [29 31 33]]\n"
     ]
    }
   ],
   "source": [
    "print(tensor.sum(axis=1))"
   ]
  },
  {
   "cell_type": "code",
   "execution_count": 12,
   "id": "b28a4731",
   "metadata": {},
   "outputs": [
    {
     "name": "stdout",
     "output_type": "stream",
     "text": [
      "[[ 6 15]\n",
      " [24 33]\n",
      " [42 51]]\n"
     ]
    }
   ],
   "source": [
    "print(tensor.sum(axis=2)) "
   ]
  },
  {
   "cell_type": "markdown",
   "id": "cd8fe107",
   "metadata": {},
   "source": [
    "## 평균"
   ]
  },
  {
   "cell_type": "code",
   "execution_count": 16,
   "id": "89a0d7fa",
   "metadata": {},
   "outputs": [
    {
     "name": "stdout",
     "output_type": "stream",
     "text": [
      "3.5\n",
      "[2.5 3.5 4.5]\n",
      "[2. 5.]\n"
     ]
    }
   ],
   "source": [
    "print(matrix.mean())\n",
    "print(matrix.mean(axis=0)) # 행끼리 평균(위아래)\n",
    "print(matrix.mean(axis=1)) # 열끼리 평균 (좌우)"
   ]
  },
  {
   "cell_type": "code",
   "execution_count": 19,
   "id": "dab42950",
   "metadata": {},
   "outputs": [
    {
     "data": {
      "text/plain": [
       "array([[21, 24, 27],\n",
       "       [30, 33, 36]])"
      ]
     },
     "execution_count": 19,
     "metadata": {},
     "output_type": "execute_result"
    }
   ],
   "source": [
    "sum(tensor)# axis 사용불가능 "
   ]
  },
  {
   "cell_type": "code",
   "execution_count": 20,
   "id": "e4b1bbac",
   "metadata": {},
   "outputs": [
    {
     "data": {
      "text/plain": [
       "171"
      ]
     },
     "execution_count": 20,
     "metadata": {},
     "output_type": "execute_result"
    }
   ],
   "source": [
    "tensor.sum() # axis 사용가능 "
   ]
  },
  {
   "cell_type": "code",
   "execution_count": 22,
   "id": "114e92c5",
   "metadata": {},
   "outputs": [
    {
     "data": {
      "text/plain": [
       "171"
      ]
     },
     "execution_count": 22,
     "metadata": {},
     "output_type": "execute_result"
    }
   ],
   "source": [
    "np.sum(tensor)# axis 사용가능 "
   ]
  },
  {
   "cell_type": "code",
   "execution_count": 26,
   "id": "a01209f0",
   "metadata": {},
   "outputs": [
    {
     "data": {
      "text/plain": [
       "array([[1, 2, 3],\n",
       "       [4, 5, 6]])"
      ]
     },
     "execution_count": 26,
     "metadata": {},
     "output_type": "execute_result"
    }
   ],
   "source": [
    "matrix"
   ]
  },
  {
   "cell_type": "code",
   "execution_count": 24,
   "id": "5a583421",
   "metadata": {},
   "outputs": [
    {
     "name": "stdout",
     "output_type": "stream",
     "text": [
      "3.5\n"
     ]
    }
   ],
   "source": [
    "print(matrix.mean())"
   ]
  },
  {
   "cell_type": "code",
   "execution_count": 25,
   "id": "4d2c4861",
   "metadata": {
    "scrolled": true
   },
   "outputs": [
    {
     "name": "stdout",
     "output_type": "stream",
     "text": [
      "[2.5 3.5 4.5]\n"
     ]
    }
   ],
   "source": [
    "print(matrix.mean(axis=0))"
   ]
  },
  {
   "cell_type": "markdown",
   "id": "82058954",
   "metadata": {},
   "source": [
    "## 표준편차"
   ]
  },
  {
   "cell_type": "code",
   "execution_count": 28,
   "id": "cb03e9cd",
   "metadata": {},
   "outputs": [
    {
     "name": "stdout",
     "output_type": "stream",
     "text": [
      "1.707825127659933\n",
      "[1.5 1.5 1.5]\n",
      "[0.81649658 0.81649658]\n"
     ]
    }
   ],
   "source": [
    "print(matrix.std()) # 전체표준편차\n",
    "print(matrix.std(axis=0))# 행끼리 표준편차 (위아래)\n",
    "print(matrix.std(axis=1))# 열끼리 표준편차 (좌우)"
   ]
  },
  {
   "cell_type": "markdown",
   "id": "0d92f5ee",
   "metadata": {},
   "source": [
    "## 그 외 수학연산자"
   ]
  },
  {
   "cell_type": "code",
   "execution_count": 29,
   "id": "bb12dcb0",
   "metadata": {},
   "outputs": [
    {
     "name": "stdout",
     "output_type": "stream",
     "text": [
      "[[  2.71828183   7.3890561   20.08553692]\n",
      " [ 54.59815003 148.4131591  403.42879349]]\n"
     ]
    }
   ],
   "source": [
    "# 지수(exp)\n",
    "print(np.exp(matrix))"
   ]
  },
  {
   "cell_type": "code",
   "execution_count": 30,
   "id": "64f6c978",
   "metadata": {},
   "outputs": [
    {
     "name": "stdout",
     "output_type": "stream",
     "text": [
      "[[0.         0.69314718 1.09861229]\n",
      " [1.38629436 1.60943791 1.79175947]]\n"
     ]
    }
   ],
   "source": [
    "# 로그(log)\n",
    "print(np.log(matrix))"
   ]
  },
  {
   "cell_type": "code",
   "execution_count": 31,
   "id": "69c6060f",
   "metadata": {},
   "outputs": [
    {
     "name": "stdout",
     "output_type": "stream",
     "text": [
      "[[1.         1.41421356 1.73205081]\n",
      " [2.         2.23606798 2.44948974]]\n"
     ]
    }
   ],
   "source": [
    "# 제곱근\n",
    "print(np.sqrt(matrix))"
   ]
  },
  {
   "cell_type": "code",
   "execution_count": 32,
   "id": "1fc935e6",
   "metadata": {},
   "outputs": [
    {
     "name": "stdout",
     "output_type": "stream",
     "text": [
      "[[ 0.84147098  0.90929743  0.14112001]\n",
      " [-0.7568025  -0.95892427 -0.2794155 ]]\n"
     ]
    }
   ],
   "source": [
    "# 삼각함수(sin)\n",
    "print(np.sin(matrix))"
   ]
  },
  {
   "cell_type": "code",
   "execution_count": 33,
   "id": "caf5431e",
   "metadata": {},
   "outputs": [
    {
     "name": "stdout",
     "output_type": "stream",
     "text": [
      "[[ 0.54030231 -0.41614684 -0.9899925 ]\n",
      " [-0.65364362  0.28366219  0.96017029]]\n"
     ]
    }
   ],
   "source": [
    "# 삼각함수(cos)\n",
    "print(np.cos(matrix))"
   ]
  },
  {
   "cell_type": "code",
   "execution_count": 34,
   "id": "9b1d0114",
   "metadata": {},
   "outputs": [
    {
     "name": "stdout",
     "output_type": "stream",
     "text": [
      "[[ 1.55740772 -2.18503986 -0.14254654]\n",
      " [ 1.15782128 -3.38051501 -0.29100619]]\n"
     ]
    }
   ],
   "source": [
    "# 삼각함수(tan)\n",
    "print(np.tan(matrix))"
   ]
  }
 ],
 "metadata": {
  "kernelspec": {
   "display_name": "Python 3 (ipykernel)",
   "language": "python",
   "name": "python3"
  },
  "language_info": {
   "codemirror_mode": {
    "name": "ipython",
    "version": 3
   },
   "file_extension": ".py",
   "mimetype": "text/x-python",
   "name": "python",
   "nbconvert_exporter": "python",
   "pygments_lexer": "ipython3",
   "version": "3.9.12"
  }
 },
 "nbformat": 4,
 "nbformat_minor": 5
}
